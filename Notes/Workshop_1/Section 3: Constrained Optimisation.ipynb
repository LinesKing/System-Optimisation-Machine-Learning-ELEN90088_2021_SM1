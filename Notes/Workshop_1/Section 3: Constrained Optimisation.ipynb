{
 "cells": [
  {
   "cell_type": "code",
   "execution_count": 3,
   "metadata": {
    "collapsed": true
   },
   "outputs": [],
   "source": [
    "%matplotlib inline\n",
    "import numpy.random as rand\n",
    "import numpy as np\n",
    "import matplotlib.pyplot as plt\n",
    "from matplotlib import cm\n",
    "import sympy\n",
    "import pyomo.environ as pyo\n",
    "import cvxpy as cp\n",
    "from pyomo.environ import *\n",
    "from scipy import optimize\n",
    "from pyomo.opt import SolverFactory\n",
    "from IPython.display import Markdown, display\n",
    "import math"
   ]
  },
  {
   "cell_type": "code",
   "execution_count": 4,
   "outputs": [],
   "source": [
    "## Example 1\n",
    "# A Pyomo model for the Rosenbrock problem\n",
    "\n",
    "model = pyo.AbstractModel()\n",
    "model.name = 'Rosenbrock'\n",
    "\n",
    "# note boundaries of variables and initial condition $x_0=[-2,2]$\n",
    "model.x1 = pyo.Var(bounds=(-2,3), initialize=-2)\n",
    "model.x2 = pyo.Var(bounds=(-2,2), initialize=2)\n",
    "\n",
    "def rosenbrock(model):\n",
    "    f = (1.0-model.x1)**2 + 100.0*(model.x2 - model.x1**2)**2\n",
    "    return f\n",
    "\n",
    "def ineqconstr(model):\n",
    "    return model.x2 >= model.x1+1\n",
    "\n",
    "model.obj = pyo.Objective(rule=rosenbrock, sense=pyo.minimize)\n",
    "model.constraint = pyo.Constraint(rule=ineqconstr)"
   ],
   "metadata": {
    "collapsed": false,
    "pycharm": {
     "name": "#%%\n"
    }
   }
  },
  {
   "cell_type": "code",
   "execution_count": 5,
   "outputs": [
    {
     "name": "stdout",
     "output_type": "stream",
     "text": [
      "Model Rosenbrock\n",
      "\n",
      "  Variables:\n",
      "    x1 : Size=1, Index=None\n",
      "        Key  : Lower : Value               : Upper : Fixed : Stale : Domain\n",
      "        None :    -2 : -0.6147903137877664 :     3 : False : False :  Reals\n",
      "    x2 : Size=1, Index=None\n",
      "        Key  : Lower : Value               : Upper : Fixed : Stale : Domain\n",
      "        None :    -2 : 0.38520970405541305 :     2 : False : False :  Reals\n",
      "\n",
      "  Objectives:\n",
      "    obj : Size=1, Index=None, Active=True\n",
      "        Key  : Active : Value\n",
      "        None :   True : 2.612793245502972\n",
      "\n",
      "  Constraints:\n",
      "    constraint : Size=1\n",
      "        Key  : Lower : Body                    : Upper\n",
      "        None :  None : -1.7843179433985057e-08 :   0.0\n"
     ]
    }
   ],
   "source": [
    "# create an instance of the problem\n",
    "arosenbrockproblem = model.create_instance()\n",
    "# this is to access Lagrange multipliers (dual variables)\n",
    "arosenbrockproblem.dual = pyo.Suffix(direction=pyo.Suffix.IMPORT)\n",
    "\n",
    "# define solver\n",
    "opt = pyo.SolverFactory('ipopt') # we can use other solvers here as well\n",
    "\n",
    "results = opt.solve(arosenbrockproblem)\n",
    "\n",
    "# show results\n",
    "arosenbrockproblem.display()"
   ],
   "metadata": {
    "collapsed": false,
    "pycharm": {
     "name": "#%%\n"
    }
   }
  },
  {
   "cell_type": "code",
   "execution_count": 6,
   "outputs": [
    {
     "name": "stdout",
     "output_type": "stream",
     "text": [
      "Duals\n",
      "   Constraint constraint\n",
      "       None -1.4485148520538937\n"
     ]
    }
   ],
   "source": [
    "def display_lagrange(instance):\n",
    "    # display all duals\n",
    "    print (\"Duals\")\n",
    "    for c in instance.component_objects(pyo.Constraint, active=True):\n",
    "        print (\"   Constraint\",c)\n",
    "        for index in c:\n",
    "            print (\"      \", index, instance.dual[c[index]])\n",
    "\n",
    "display_lagrange(arosenbrockproblem)\n"
   ],
   "metadata": {
    "collapsed": false,
    "pycharm": {
     "name": "#%%\n"
    }
   }
  },
  {
   "cell_type": "code",
   "execution_count": 7,
   "outputs": [
    {
     "name": "stdout",
     "output_type": "stream",
     "text": [
      "x1 -0.6147903137877664\n",
      "x2 0.38520970405541305\n",
      "obj 2.612793245502972\n"
     ]
    },
    {
     "data": {
      "text/plain": "[-0.6147903137877664, 0.38520970405541305, 2.612793245502972]"
     },
     "execution_count": 7,
     "metadata": {},
     "output_type": "execute_result"
    }
   ],
   "source": [
    "def disp_soln(instance):\n",
    "    output = []\n",
    "    for v in instance.component_data_objects(pyo.Var, active=True):\n",
    "        output.append(pyo.value(v))\n",
    "        print(v, pyo.value(v))\n",
    "    print (instance.obj, pyo.value(instance.obj))\n",
    "    output.append(pyo.value(instance.obj))\n",
    "    return output\n",
    "\n",
    "\n",
    "disp_soln(arosenbrockproblem)\n"
   ],
   "metadata": {
    "collapsed": false,
    "pycharm": {
     "name": "#%%\n"
    }
   }
  },
  {
   "cell_type": "code",
   "execution_count": 8,
   "outputs": [
    {
     "name": "stdout",
     "output_type": "stream",
     "text": [
      "Model Rosenbrock\n",
      "\n",
      "  Variables:\n",
      "    x1 : Size=1, Index=None\n",
      "        Key  : Lower : Value              : Upper : Fixed : Stale : Domain\n",
      "        None :    -2 : 1.0000000299152387 :     3 : False : False :  Reals\n",
      "    x2 : Size=1, Index=None\n",
      "        Key  : Lower : Value : Upper : Fixed : Stale : Domain\n",
      "        None :    -2 :   2.0 :     2 : False : False :  Reals\n",
      "\n",
      "  Objectives:\n",
      "    obj : Size=1, Index=None, Active=True\n",
      "        Key  : Active : Value\n",
      "        None :   True : 99.99998803390469\n",
      "\n",
      "  Constraints:\n",
      "    constraint : Size=1\n",
      "        Key  : Lower : Body                  : Upper\n",
      "        None :  None : 2.991523873063784e-08 :   0.0\n"
     ]
    }
   ],
   "source": [
    "arosenbrockproblem.x1 = 1.5\n",
    "arosenbrockproblem.x2 = 1.5\n",
    "\n",
    "results = opt.solve(arosenbrockproblem)\n",
    "\n",
    "arosenbrockproblem.display()"
   ],
   "metadata": {
    "collapsed": false,
    "pycharm": {
     "name": "#%%\n"
    }
   }
  },
  {
   "cell_type": "code",
   "execution_count": 9,
   "outputs": [
    {
     "name": "stdout",
     "output_type": "stream",
     "text": [
      "Duals\n",
      "   Constraint constraint\n",
      "       None -399.99999594959036\n"
     ]
    }
   ],
   "source": [
    "display_lagrange(arosenbrockproblem)"
   ],
   "metadata": {
    "collapsed": false,
    "pycharm": {
     "name": "#%%\n"
    }
   }
  },
  {
   "cell_type": "code",
   "execution_count": 10,
   "outputs": [
    {
     "name": "stdout",
     "output_type": "stream",
     "text": [
      "x1 1.0000000299152387\n",
      "x2 2.0\n",
      "obj 99.99998803390469\n"
     ]
    },
    {
     "data": {
      "text/plain": "[1.0000000299152387, 2.0, 99.99998803390469]"
     },
     "execution_count": 10,
     "metadata": {},
     "output_type": "execute_result"
    }
   ],
   "source": [
    "disp_soln(arosenbrockproblem)"
   ],
   "metadata": {
    "collapsed": false,
    "pycharm": {
     "name": "#%%\n"
    }
   }
  },
  {
   "cell_type": "markdown",
   "source": [
    "Global Optimisation\n",
    "\n"
   ],
   "metadata": {
    "collapsed": false
   }
  },
  {
   "cell_type": "code",
   "execution_count": 11,
   "outputs": [
    {
     "data": {
      "text/plain": "array([[ -0.615,   0.385,   2.613],\n       [  1.   ,   2.   , 100.   ]])"
     },
     "execution_count": 11,
     "metadata": {},
     "output_type": "execute_result"
    }
   ],
   "source": [
    "num_trials = 10\n",
    "\n",
    "# random initial starting points (not taking into account additional constraint, pyomo handles that)\n",
    "x1inits = 5*rand.random_sample((num_trials,))-2\n",
    "x2inits = 4*rand.random_sample((num_trials,))-2\n",
    "\n",
    "def get_soln(instance):\n",
    "    output = []\n",
    "    for v in instance.component_data_objects(pyo.Var, active=True):\n",
    "        output.append(pyo.value(v))\n",
    "    output.append(pyo.value(instance.obj))\n",
    "    return output\n",
    "\n",
    "# record results in tuples of 3 (x1, x1, obj_value)\n",
    "global_results = np.empty([num_trials, 3])\n",
    "\n",
    "# main loop of Monte Carlo trials\n",
    "for index in range(len(x1inits)):\n",
    "    arosenbrockproblem.x1 = x1inits[index]\n",
    "    arosenbrockproblem.x2 = x2inits[index]\n",
    "    opt.solve(arosenbrockproblem)\n",
    "    global_results[index,:]=np.array(get_soln(arosenbrockproblem))\n",
    "\n",
    "# rounding to remove unnecessary duplication\n",
    "round_array = [tuple(row) for row in np.round(global_results, decimals=3)]\n",
    "# show only different results in rows\n",
    "np.unique(round_array, axis=0)"
   ],
   "metadata": {
    "collapsed": false,
    "pycharm": {
     "name": "#%%\n"
    }
   }
  },
  {
   "cell_type": "code",
   "execution_count": 12,
   "outputs": [
    {
     "data": {
      "text/plain": "<IPython.core.display.Markdown object>",
      "text/markdown": "2. Pyomo"
     },
     "metadata": {},
     "output_type": "display_data"
    },
    {
     "name": "stdout",
     "output_type": "stream",
     "text": [
      "Model Waterfilling\n",
      "\n",
      "  Variables:\n",
      "    x : Size=8, Index=x_index\n",
      "        Key : Lower : Value                : Upper : Fixed : Stale : Domain\n",
      "          0 :     0 : 0.048695272757921314 :  None : False : False :  Reals\n",
      "          1 :     0 :   0.2020360373935201 :  None : False : False :  Reals\n",
      "          2 :     0 :                  0.0 :  None : False : False :  Reals\n",
      "          3 :     0 :  0.24856334388194198 :  None : False : False :  Reals\n",
      "          4 :     0 :                  0.0 :  None : False : False :  Reals\n",
      "          5 :     0 :                  0.0 :  None : False : False :  Reals\n",
      "          6 :     0 :                  0.0 :  None : False : False :  Reals\n",
      "          7 :     0 :    0.500705361710903 :  None : False : False :  Reals\n",
      "\n",
      "  Objectives:\n",
      "    obj : Size=1, Index=None, Active=True\n",
      "        Key  : Active : Value\n",
      "        None :   True : 3.2377439052595065\n",
      "\n",
      "  Constraints:\n",
      "    constraint : Size=1\n",
      "        Key  : Lower : Body               : Upper\n",
      "        None :   1.0 : 1.0000000157442863 :   1.0\n",
      "Duals\n",
      "   Constraint constraint\n",
      "       None -1.7958172901131337\n",
      "x[0] 0.048695272757921314\n",
      "x[1] 0.2020360373935201\n",
      "x[2] 0.0\n",
      "x[3] 0.24856334388194198\n",
      "x[4] 0.0\n",
      "x[5] 0.0\n",
      "x[6] 0.0\n",
      "x[7] 0.500705361710903\n",
      "obj 3.2377439052595065\n"
     ]
    },
    {
     "data": {
      "text/plain": "<IPython.core.display.Markdown object>",
      "text/markdown": "2. crosscheck by Scipy"
     },
     "metadata": {},
     "output_type": "display_data"
    },
    {
     "data": {
      "text/plain": "<IPython.core.display.Markdown object>",
      "text/markdown": "$x_i$"
     },
     "metadata": {},
     "output_type": "display_data"
    },
    {
     "data": {
      "text/plain": "array([4.86950296e-02, 2.02036113e-01, 1.00588089e-08, 2.48563371e-01,\n       1.37278613e-08, 6.03661475e-09, 3.84281684e-09, 5.00705449e-01])"
     },
     "metadata": {},
     "output_type": "display_data"
    },
    {
     "data": {
      "text/plain": "<IPython.core.display.Markdown object>",
      "text/markdown": "function value"
     },
     "metadata": {},
     "output_type": "display_data"
    },
    {
     "data": {
      "text/plain": "3.2377438804878036"
     },
     "metadata": {},
     "output_type": "display_data"
    },
    {
     "data": {
      "text/plain": "<IPython.core.display.Markdown object>",
      "text/markdown": "3. Lagrange multipliers"
     },
     "metadata": {},
     "output_type": "display_data"
    },
    {
     "data": {
      "text/plain": "<IPython.core.display.Markdown object>",
      "text/markdown": "$\\mu_i$:"
     },
     "metadata": {},
     "output_type": "display_data"
    },
    {
     "data": {
      "text/plain": "[0,\n 0,\n 0.4236134598459462,\n 0,\n 0.3333470745741549,\n 0.6000496583945278,\n 0.7750344803914384,\n 0]"
     },
     "metadata": {},
     "output_type": "display_data"
    },
    {
     "data": {
      "text/plain": "<IPython.core.display.Markdown object>",
      "text/markdown": "$\\lambda$:"
     },
     "metadata": {},
     "output_type": "display_data"
    },
    {
     "data": {
      "text/plain": "1.7958172327901818"
     },
     "metadata": {},
     "output_type": "display_data"
    }
   ],
   "source": [
    "## Question 3.1.2 (Waterfilling problem)\n",
    "display(Markdown(r\"2. Pyomo\"))\n",
    "rand.seed(8941966)\n",
    "\n",
    "# A Pyomo model for the Waterfilling problem\n",
    "model = pyo.AbstractModel()\n",
    "model.name = 'Waterfilling'\n",
    "N = 8\n",
    "P = 1\n",
    "alpha = np.random.rand(8).flatten()\n",
    "\n",
    "# note boundaries of variables and initial condition\n",
    "model.x = pyo.Var(range(N), bounds=(0,None), initialize=0)\n",
    "\n",
    "def waterfilling(model):\n",
    "    return sum(-pyo.log(model.x[i] + alpha[i]) for i in range(N))\n",
    "\n",
    "def eqconstr(model):\n",
    "    return pyo.summation(model.x) == P\n",
    "\n",
    "model.obj = pyo.Objective(rule=waterfilling, sense=pyo.minimize)\n",
    "model.constraint = pyo.Constraint(rule=eqconstr)\n",
    "\n",
    "# create an instance of the problem\n",
    "awaterfillingproblem = model.create_instance()\n",
    "# this is to access Lagrange multipliers (dual variables)\n",
    "awaterfillingproblem.dual = pyo.Suffix(direction=pyo.Suffix.IMPORT)\n",
    "\n",
    "# define solver\n",
    "opt = pyo.SolverFactory('ipopt') # we can use other solvers here as well\n",
    "\n",
    "results = opt.solve(awaterfillingproblem)\n",
    "\n",
    "# show results\n",
    "awaterfillingproblem.display()\n",
    "\n",
    "def display_lagrange(instance):\n",
    "    # display all duals\n",
    "    print (\"Duals\")\n",
    "    for c in instance.component_objects(pyo.Constraint, active=True):\n",
    "        print (\"   Constraint\",c)\n",
    "        for index in c:\n",
    "            print (\"      \", index, instance.dual[c[index]])\n",
    "\n",
    "display_lagrange(awaterfillingproblem)\n",
    "\n",
    "def disp_soln(instance):\n",
    "    output = []\n",
    "    for v in instance.component_data_objects(pyo.Var, active=True):\n",
    "        output.append(pyo.value(v))\n",
    "        print(v, pyo.value(v))\n",
    "    print (instance.obj, pyo.value(instance.obj))\n",
    "    output.append(pyo.value(instance.obj))\n",
    "    return output\n",
    "\n",
    "\n",
    "disp_soln(awaterfillingproblem)\n",
    "\n",
    "## Question 3.1.2(Scipy)\n",
    "display(Markdown(r\"2. crosscheck by Scipy\"))\n",
    "\n",
    "def water_filling(n, a, sum_x=1):\n",
    "\n",
    "    # Declare variables and parameters\n",
    "    x = cp.Variable(shape=n)\n",
    "    alpha = cp.Parameter(n, nonneg=True)\n",
    "    alpha.value = a\n",
    "\n",
    "    # Choose objective function. Interpret as maximising the total communication rate of all the channels\n",
    "    obj = cp.Maximize(cp.sum(cp.log(alpha + x)))\n",
    "\n",
    "    # Declare constraints\n",
    "    constraints = [x >= 0, cp.sum(x) - sum_x == 0]\n",
    "\n",
    "    # Solve\n",
    "    prob = cp.Problem(obj, constraints)\n",
    "    prob.solve()\n",
    "    if(prob.status=='optimal'):\n",
    "        return prob.status, prob.value, x.value\n",
    "    else:\n",
    "        return prob.status, np.nan, np.nan\n",
    "\n",
    "status,value,xx = water_filling(8, alpha, sum_x=1)\n",
    "\n",
    "display(Markdown(r\"$x_i$\"))\n",
    "display(xx)\n",
    "display(Markdown(r\"function value\"))\n",
    "display(-value)\n",
    "\n",
    "## Question 3.1.3\n",
    "display(Markdown(r\"3. Lagrange multipliers\"))\n",
    "mu = []\n",
    "lamda = []\n",
    "\n",
    "\n",
    "for i in range(N):\n",
    "    if xx[i] > 0.001:\n",
    "        lamda.append( 1/(alpha[i] + xx[i]) )\n",
    "    else: lamda.append( lamda[i-1] )\n",
    "\n",
    "lamda = np.mean(lamda)\n",
    "\n",
    "for i in range(N):\n",
    "    if xx[i] > 0.001:\n",
    "        mu.append( 0 )\n",
    "    else: mu.append( lamda - 1/(alpha[i] + xx[i]) )\n",
    "\n",
    "display(Markdown(r\"$\\mu_i$:\"))\n",
    "display(mu)\n",
    "display(Markdown(r\"$\\lambda$:\"))\n",
    "display(lamda)"
   ],
   "metadata": {
    "collapsed": false,
    "pycharm": {
     "name": "#%%\n"
    }
   }
  },
  {
   "cell_type": "markdown",
   "source": [
    "1. The problem in Example 3.1 is convex.<br/>\n",
    "Let's first only consider:<br/>\n",
    "Objective: $f(x) = -log(\\alpha + x)$<br/>\n",
    "Decision variable(s):  $x_i$<br/>\n",
    "$\\nabla f(x) = -\\frac{1}{\\alpha + x}$<br/>\n",
    "$\\nabla^2 f(x) = (\\frac{1}{\\alpha + x})^2 > 0$<br/>\n",
    "Hence, f(x) is convex.<br/>\n",
    "By the sum of convex functions is again convex, $g(x_i) = \\Sigma_{i=1}^N -log(\\alpha_i + x_i)$ is also convex.<br/>\n",
    "\n",
    "2. Lagrangian: $L(\\lambda, \\mu_i, x_i) = \\Sigma_{i=1}^N -log(\\alpha_i + x_i) + \\Sigma_{i=1}^N (-\\mu_i x_i) + \\lambda(\\Sigma_{i=1}^N x_i - P)$<br/>\n",
    "KKT conditions: <br/>\n",
    "$- \\frac{1}{\\alpha_i + x_i^*} -  \\mu_i + \\lambda = 0$<br/>\n",
    "$-x_i^* \\le 0$ <br/>\n",
    "$\\Sigma_{i=1}^N x_i^*- P = 0$ <br/>\n",
    "$\\mu_i \\ge 0$ <br/>\n",
    "$\\mu_i x_i^* = 0$ <br/>\n",
    "\n",
    "3. $\\mu_i = [0, 0, 0.4236, 0, 0.3333, 0.6000, 0.7750, 0]$<br/>\n",
    "$\\lambda = 1.79583$"
   ],
   "metadata": {
    "collapsed": false,
    "pycharm": {
     "name": "#%% md\n"
    }
   }
  },
  {
   "cell_type": "code",
   "execution_count": 13,
   "outputs": [
    {
     "data": {
      "text/plain": "<IPython.core.display.Markdown object>",
      "text/markdown": "2. Pyomo"
     },
     "metadata": {},
     "output_type": "display_data"
    },
    {
     "name": "stdout",
     "output_type": "stream",
     "text": [
      "Model 1. Economic Dispatch in Power Generation\n",
      "\n",
      "  Variables:\n",
      "    p : Size=12, Index=p_index\n",
      "        Key : Lower : Value              : Upper : Fixed : Stale : Domain\n",
      "          0 :     0 :  406.5234182293699 :  None : False : False :  Reals\n",
      "          1 :     0 : 283.85079354897044 :  None : False : False :  Reals\n",
      "          2 :     0 :  583.0037875795776 :  None : False : False :  Reals\n",
      "          3 :     0 : 246.62894742257652 :  None : False : False :  Reals\n",
      "          4 :     0 :  547.0197032358044 :  None : False : False :  Reals\n",
      "          5 :     0 :  669.0263386925457 :  None : False : False :  Reals\n",
      "          6 :     0 :  783.7123060530766 :  None : False : False :  Reals\n",
      "          7 :     0 :  44.91532989382681 :  None : False : False :  Reals\n",
      "          8 :     0 :  299.5196421265426 :  None : False : False :  Reals\n",
      "          9 :     0 :                0.0 :  None : False : False :  Reals\n",
      "         10 :     0 :  706.3033015141634 :  None : False : False :  Reals\n",
      "         11 :     0 :  429.4964317124707 :  None : False : False :  Reals\n",
      "\n",
      "  Objectives:\n",
      "    obj : Size=1, Index=None, Active=True\n",
      "        Key  : Active : Value\n",
      "        None :   True : 139577.84308444546\n",
      "\n",
      "  Constraints:\n",
      "    eqconstr : Size=1\n",
      "        Key  : Lower  : Body              : Upper\n",
      "        None : 5000.0 : 5000.000000008925 : 5000.0\n",
      "    ineqconstr : Size=12\n",
      "        Key : Lower : Body               : Upper\n",
      "          0 :  None :  406.5234182293699 :  406.5234141642217\n",
      "          1 :  None : 283.85079354897044 :   283.850790710558\n",
      "          2 :  None :  583.0037875795776 :  583.0037817497843\n",
      "          3 :  None : 246.62894742257652 : 246.62894495642726\n",
      "          4 :  None :  547.0197032358044 :  547.0196977657298\n",
      "          5 :  None :  669.0263386925457 :  669.0263320023649\n",
      "          6 :  None :  783.7123060530766 :  783.7122982161782\n",
      "          7 :  None :  44.91532989382681 :   44.9153294447834\n",
      "          8 :  None :  299.5196421265426 : 322.05280653162293\n",
      "          9 :  None :                0.0 :  253.2164111862894\n",
      "         10 :  None :  706.3033015141634 :  706.3032944513033\n",
      "         11 :  None :  429.4964317124707 :  429.4964274185407\n",
      "Duals\n",
      "   Constraint eqconstr\n",
      "       None 44.36054881262486\n",
      "   Constraint ineqconstr\n",
      "       0 -29.15207664429977\n",
      "       1 -26.258747726441836\n",
      "       2 -10.25074370897648\n",
      "       3 -17.871985253453445\n",
      "       4 -20.48173096089649\n",
      "       5 -30.308288897353087\n",
      "       6 -11.159126489659084\n",
      "       7 -22.803122584133348\n",
      "       8 -1.1118119473680692e-10\n",
      "       9 -9.871210219548522e-12\n",
      "       10 -14.505085029855293\n",
      "       11 -2.422985242083635\n",
      "p[0] 406.5234182293699\n",
      "p[1] 283.85079354897044\n",
      "p[2] 583.0037875795776\n",
      "p[3] 246.62894742257652\n",
      "p[4] 547.0197032358044\n",
      "p[5] 669.0263386925457\n",
      "p[6] 783.7123060530766\n",
      "p[7] 44.91532989382681\n",
      "p[8] 299.5196421265426\n",
      "p[9] 0.0\n",
      "p[10] 706.3033015141634\n",
      "p[11] 429.4964317124707\n",
      "obj 139577.84308444546\n",
      "Model 3. Dual problem of Economic Dispatch in Power Generation\n",
      "\n",
      "  Variables:\n",
      "    lamda : Size=1, Index=None\n",
      "        Key  : Lower : Value               : Upper : Fixed : Stale : Domain\n",
      "        None :  None : -46.691590723886634 :  None : False : False :  Reals\n",
      "    mu : Size=12, Index=mu_index\n",
      "        Key : Lower : Value              : Upper : Fixed : Stale : Domain\n",
      "          0 :     0 : 31.483118555555397 :  None : False : False :  Reals\n",
      "          1 :     0 :   28.5897896376948 :  None : False : False :  Reals\n",
      "          2 :     0 : 12.581785620233969 :  None : False : False :  Reals\n",
      "          3 :     0 : 20.203027164705077 :  None : False : False :  Reals\n",
      "          4 :     0 :   22.8127728721537 :  None : False : False :  Reals\n",
      "          5 :     0 : 32.639330808611135 :  None : False : False :  Reals\n",
      "          6 :     0 : 13.490168400917678 :  None : False : False :  Reals\n",
      "          7 :     0 :  25.13416449533935 :  None : False : False :  Reals\n",
      "          8 :     0 : 2.3310419113646055 :  None : False : False :  Reals\n",
      "          9 :     0 :                0.0 :  None : False : False :  Reals\n",
      "         10 :     0 : 16.836126941113537 :  None : False : False :  Reals\n",
      "         11 :     0 :  4.754027153339593 :  None : False : False :  Reals\n",
      "\n",
      "  Objectives:\n",
      "    obj : Size=1, Index=None, Active=True\n",
      "        Key  : Active : Value\n",
      "        None :   True : 139525.31826519355\n",
      "\n",
      "  Constraints:\n",
      "    eqconstr : Size=12\n",
      "        Key : Lower               : Body                : Upper\n",
      "          0 : -15.208472168331237 : -15.208472168331237 : -15.208472168331237\n",
      "          1 : -18.101801086191834 : -18.101801086191834 : -18.101801086191834\n",
      "          2 :  -34.10980510365266 :  -34.10980510365266 :  -34.10980510365266\n",
      "          3 : -26.488563559181557 : -26.488563559181557 : -26.488563559181557\n",
      "          4 : -23.878817851732933 : -23.878817851732933 : -23.878817851732933\n",
      "          5 :   -14.0522599152755 :   -14.0522599152755 :   -14.0522599152755\n",
      "          6 :  -33.20142232296895 :  -33.20142232296895 :  -33.20142232296895\n",
      "          7 : -21.557426228547286 : -21.557426228547286 : -21.557426228547286\n",
      "          8 : -44.360548812522026 : -44.360548812522026 : -44.360548812522026\n",
      "          9 :  -46.69159073343237 : -46.691590723886634 :  -46.69159073343237\n",
      "         10 : -29.855463782773096 : -29.855463782773096 : -29.855463782773096\n",
      "         11 :  -41.93756357054704 :  -41.93756357054704 :  -41.93756357054704\n",
      "Duals\n",
      "   Constraint eqconstr\n",
      "       0 -406.52341416024325\n",
      "       1 -283.85079070617667\n",
      "       2 -583.0037817398269\n",
      "       3 -246.62894495022664\n",
      "       4 -547.0196977602386\n",
      "       5 -669.0263319985273\n",
      "       6 -783.7122982068914\n",
      "       7 -44.91532943979955\n",
      "       8 -322.0528064778678\n",
      "       9 22.533117275845445\n",
      "       10 -706.3032944438623\n",
      "       11 -429.496427392185\n",
      "lamda -46.691590723886634\n",
      "mu[0] 31.483118555555397\n",
      "mu[1] 28.5897896376948\n",
      "mu[2] 12.581785620233969\n",
      "mu[3] 20.203027164705077\n",
      "mu[4] 22.8127728721537\n",
      "mu[5] 32.639330808611135\n",
      "mu[6] 13.490168400917678\n",
      "mu[7] 25.13416449533935\n",
      "mu[8] 2.3310419113646055\n",
      "mu[9] 0.0\n",
      "mu[10] 16.836126941113537\n",
      "mu[11] 4.754027153339593\n",
      "obj 139525.31826519355\n"
     ]
    },
    {
     "data": {
      "text/plain": "<IPython.core.display.Markdown object>",
      "text/markdown": "3. Dual problem in Pyomo"
     },
     "metadata": {},
     "output_type": "display_data"
    },
    {
     "data": {
      "text/plain": "[-46.691590723886634,\n 31.483118555555397,\n 28.5897896376948,\n 12.581785620233969,\n 20.203027164705077,\n 22.8127728721537,\n 32.639330808611135,\n 13.490168400917678,\n 25.13416449533935,\n 2.3310419113646055,\n 0.0,\n 16.836126941113537,\n 4.754027153339593,\n 139525.31826519355]"
     },
     "execution_count": 13,
     "metadata": {},
     "output_type": "execute_result"
    }
   ],
   "source": [
    "## Question 3.2.1 ( Power Control in Wireless Communication)\n",
    "display(Markdown(r\"2. Pyomo\"))\n",
    "rand.seed(8941966)\n",
    "\n",
    "# A Pyomo model for the Economic Dispatch in Power Generation problem\n",
    "model = pyo.AbstractModel()\n",
    "model.name = '1. Economic Dispatch in Power Generation'\n",
    "N = 12\n",
    "P_max = 800*np.random.rand(12).flatten()\n",
    "c = 10 + 40*np.random.rand(12).flatten()\n",
    "P_demand = 5000\n",
    "\n",
    "# note boundaries of variables and initial condition\n",
    "model.p = pyo.Var(range(N), bounds=(0,None), initialize=0)\n",
    "\n",
    "def objective(model):\n",
    "    return sum(c[i]*model.p[i] for i in range(N))\n",
    "\n",
    "def eqconstr(model):\n",
    "    return pyo.summation(model.p) == P_demand\n",
    "\n",
    "def ineqconstr(model,i):\n",
    "    return model.p[i] <= P_max[i]\n",
    "\n",
    "model.obj = pyo.Objective(rule=objective, sense=pyo.minimize)\n",
    "model.eqconstr = pyo.Constraint(rule=eqconstr)\n",
    "model.ineqconstr = pyo.Constraint(range(N),rule=ineqconstr)\n",
    "\n",
    "# create an instance of the problem\n",
    "adispatchproblem = model.create_instance()\n",
    "# this is to access Lagrange multipliers (dual variables)\n",
    "adispatchproblem.dual = pyo.Suffix(direction=pyo.Suffix.IMPORT)\n",
    "\n",
    "# define solver\n",
    "opt = pyo.SolverFactory('ipopt') # we can use other solvers here as well\n",
    "\n",
    "results = opt.solve(adispatchproblem)\n",
    "\n",
    "# show results\n",
    "adispatchproblem.display()\n",
    "\n",
    "def display_lagrange(instance):\n",
    "    # display all duals\n",
    "    print (\"Duals\")\n",
    "    for c in instance.component_objects(pyo.Constraint, active=True):\n",
    "        print (\"   Constraint\",c)\n",
    "        for index in c:\n",
    "            print (\"      \", index, instance.dual[c[index]])\n",
    "\n",
    "display_lagrange(adispatchproblem)\n",
    "\n",
    "def disp_soln(instance):\n",
    "    output = []\n",
    "    for v in instance.component_data_objects(pyo.Var, active=True):\n",
    "        output.append(pyo.value(v))\n",
    "        print(v, pyo.value(v))\n",
    "    print (instance.obj, pyo.value(instance.obj))\n",
    "    output.append(pyo.value(instance.obj))\n",
    "    return output\n",
    "\n",
    "\n",
    "disp_soln(adispatchproblem)\n",
    "\n",
    "## Question 3.2.3 (Economic Dispatch in Power Generation dual)\n",
    "display(Markdown(r\"3. Dual problem in Pyomo\"))\n",
    "rand.seed(8941966)\n",
    "\n",
    "# A Pyomo model for the Economic Dispatch in Power Generation dual problem\n",
    "model = pyo.AbstractModel()\n",
    "model.name = '3. Dual problem of Economic Dispatch in Power Generation'\n",
    "N = 12\n",
    "P_max = 800*np.random.rand(12).flatten()\n",
    "c = 10 + 40*np.random.rand(12).flatten()\n",
    "P_demand = 5000\n",
    "\n",
    "# note boundaries of variables and initial condition\n",
    "model.lamda = pyo.Var(initialize=0)\n",
    "model.mu = pyo.Var(range(N), bounds=(0,None), initialize=0)\n",
    "\n",
    "def objective(model):\n",
    "    return -(model.lamda*P_demand + sum(model.mu[i]*P_max[i] for i in range(N)))\n",
    "\n",
    "def eqconstr(model,i):\n",
    "    return model.lamda + model.mu[i] == -c[i]\n",
    "\n",
    "model.obj = pyo.Objective(rule=objective, sense=pyo.maximize)\n",
    "model.eqconstr = pyo.Constraint(range(N), rule=eqconstr)\n",
    "\n",
    "# create an instance of the problem\n",
    "adispatchproblem = model.create_instance()\n",
    "# this is to access Lagrange multipliers (dual variables)\n",
    "adispatchproblem.dual = pyo.Suffix(direction=pyo.Suffix.IMPORT)\n",
    "\n",
    "# define solver\n",
    "opt = pyo.SolverFactory('ipopt') # we can use other solvers here as well\n",
    "\n",
    "results = opt.solve(adispatchproblem)\n",
    "\n",
    "# show results\n",
    "adispatchproblem.display()\n",
    "\n",
    "def display_lagrange(instance):\n",
    "    # display all duals\n",
    "    print (\"Duals\")\n",
    "    for c in instance.component_objects(pyo.Constraint, active=True):\n",
    "        print (\"   Constraint\",c)\n",
    "        for index in c:\n",
    "            print (\"      \", index, instance.dual[c[index]])\n",
    "\n",
    "display_lagrange(adispatchproblem)\n",
    "\n",
    "def disp_soln(instance):\n",
    "    output = []\n",
    "    for v in instance.component_data_objects(pyo.Var, active=True):\n",
    "        output.append(pyo.value(v))\n",
    "        print(v, pyo.value(v))\n",
    "    print (instance.obj, pyo.value(instance.obj))\n",
    "    output.append(pyo.value(instance.obj))\n",
    "    return output\n",
    "\n",
    "\n",
    "disp_soln(adispatchproblem)"
   ],
   "metadata": {
    "collapsed": false,
    "pycharm": {
     "name": "#%%\n"
    }
   }
  },
  {
   "cell_type": "markdown",
   "source": [
    "2. This is a Linear Programming Optimisation problem (LP). The objective function is linear, and the constraints are all linear.<br/>\n",
    "3. $L(P,\\lambda,\\mu) = C^TP + \\lambda(J_{1,N} P - P_{demand}) + \\mu^T(P-P_{max})$, <br/>\n",
    "where $J_{1,N}$ is a matrix where every element is equal to one.<br/>\n",
    "$\\phi(\\lambda,\\mu) = min_P L(P,\\lambda,\\mu) = min_P\\{ (C^T+\\lambda J_{1,N} + u^T) P - (\\lambda P_{demand} + \\mu^T P_{max})\\}$<br/>\n",
    "If $C^T+\\lambda J_{1,N} + u^T = 0$, $\\phi(\\lambda,\\mu) = -(\\lambda P_{demand} + \\mu^T P_{max})$;<br/>\n",
    "if $C^T+\\lambda J_{1,N} + u^T \\ne 0$, $\\phi(\\lambda,\\mu) = -\\infty$<br/>\n",
    "So the dual problem:<br/>\n",
    "$max_{\\lambda,\\mu} \\phi(\\lambda,\\mu) = max_{\\lambda,\\mu}\\{-(\\lambda P_{demand} + \\mu^T P_{max})\\}$<br/>\n",
    "$s.t.$  $\\mu \\ge 0$<br/>\n",
    "$\\qquad$ $C^T+\\lambda J_{1,N} + u^T = 0$<br/>\n",
    "Within the acceptable range of error, there is no duality gap. Since the problem is convex and $h(x)$ is affine, and there exits y that both $h(y) = 0$ and $g(y) \\le 0$ hold, Slater's condition holds.\n",
    "Hence, the strong duality holds which means there is no duality gap."
   ],
   "metadata": {
    "collapsed": false,
    "pycharm": {
     "name": "#%% md\n"
    }
   }
  },
  {
   "cell_type": "code",
   "execution_count": 14,
   "outputs": [
    {
     "data": {
      "text/plain": "<IPython.core.display.Markdown object>",
      "text/markdown": "2. S_min = 0"
     },
     "metadata": {},
     "output_type": "display_data"
    },
    {
     "name": "stdout",
     "output_type": "stream",
     "text": [
      "Model Power Control in Wireless Communication\n",
      "\n",
      "  Variables:\n",
      "    P : Size=10, Index=P_index\n",
      "        Key : Lower : Value : Upper : Fixed : Stale : Domain\n",
      "          0 :   0.1 :   0.1 :     5 : False : False :  Reals\n",
      "          1 :   0.1 :   0.1 :     5 : False : False :  Reals\n",
      "          2 :   0.1 :   0.1 :     5 : False : False :  Reals\n",
      "          3 :   0.1 :   0.1 :     5 : False : False :  Reals\n",
      "          4 :   0.1 :   0.1 :     5 : False : False :  Reals\n",
      "          5 :   0.1 :   0.1 :     5 : False : False :  Reals\n",
      "          6 :   0.1 :   0.1 :     5 : False : False :  Reals\n",
      "          7 :   0.1 :   0.1 :     5 : False : False :  Reals\n",
      "          8 :   0.1 :   0.1 :     5 : False : False :  Reals\n",
      "          9 :   0.1 :   0.1 :     5 : False : False :  Reals\n",
      "\n",
      "  Objectives:\n",
      "    obj : Size=1, Index=None, Active=True\n",
      "        Key  : Active : Value\n",
      "        None :   True : 0.9999999999999999\n",
      "\n",
      "  Constraints:\n",
      "    ineqconstr : Size=10\n",
      "        Key : Lower : Body : Upper\n",
      "          0 :   0.0 :  0.1 :  None\n",
      "          1 :   0.0 :  0.1 :  None\n",
      "          2 :   0.0 :  0.1 :  None\n",
      "          3 :   0.0 :  0.1 :  None\n",
      "          4 :   0.0 :  0.1 :  None\n",
      "          5 :   0.0 :  0.1 :  None\n",
      "          6 :   0.0 :  0.1 :  None\n",
      "          7 :   0.0 :  0.1 :  None\n",
      "          8 :   0.0 :  0.1 :  None\n",
      "          9 :   0.0 :  0.1 :  None\n",
      "Duals\n",
      "   Constraint ineqconstr\n",
      "       0 2.539844744236188e-08\n",
      "       1 2.5398447442365267e-08\n",
      "       2 2.5398447442365267e-08\n",
      "       3 2.5398447442365267e-08\n",
      "       4 2.5398447442365267e-08\n",
      "       5 2.5398447442365267e-08\n",
      "       6 2.5398447442365267e-08\n",
      "       7 2.5398447442365267e-08\n",
      "       8 2.5398447442365267e-08\n",
      "       9 2.5398447442365267e-08\n",
      "P[0] 0.1\n",
      "P[1] 0.1\n",
      "P[2] 0.1\n",
      "P[3] 0.1\n",
      "P[4] 0.1\n",
      "P[5] 0.1\n",
      "P[6] 0.1\n",
      "P[7] 0.1\n",
      "P[8] 0.1\n",
      "P[9] 0.1\n",
      "obj 0.9999999999999999\n",
      "Model Power Control in Wireless Communication 1\n",
      "\n",
      "  Variables:\n",
      "    P : Size=10, Index=P_index\n",
      "        Key : Lower : Value               : Upper : Fixed : Stale : Domain\n",
      "          0 :   0.1 : 0.19372545781376396 :     5 : False : False :  Reals\n",
      "          1 :   0.1 : 0.16547861902898284 :     5 : False : False :  Reals\n",
      "          2 :   0.1 :  0.2106389830517895 :     5 : False : False :  Reals\n",
      "          3 :   0.1 :  0.1737297367991111 :     5 : False : False :  Reals\n",
      "          4 :   0.1 : 0.17360373972771057 :     5 : False : False :  Reals\n",
      "          5 :   0.1 : 0.17668294918887406 :     5 : False : False :  Reals\n",
      "          6 :   0.1 : 0.16166138087692086 :     5 : False : False :  Reals\n",
      "          7 :   0.1 : 0.16305246617554206 :     5 : False : False :  Reals\n",
      "          8 :   0.1 : 0.17768436289321501 :     5 : False : False :  Reals\n",
      "          9 :   0.1 : 0.17643469706794054 :     5 : False : False :  Reals\n",
      "\n",
      "  Objectives:\n",
      "    obj : Size=1, Index=None, Active=True\n",
      "        Key  : Active : Value\n",
      "        None :   True : 1.7726923926238507\n",
      "\n",
      "  Constraints:\n",
      "    ineqconstr : Size=10\n",
      "        Key : Lower                : Body                 : Upper\n",
      "          0 : 0.038000000000000006 :  0.03799999053547595 :  None\n",
      "          1 : 0.038000000000000006 : 0.037999990486603186 :  None\n",
      "          2 : 0.038000000000000006 : 0.037999990523786276 :  None\n",
      "          3 : 0.038000000000000006 : 0.037999990566208675 :  None\n",
      "          4 : 0.038000000000000006 :  0.03799999059249007 :  None\n",
      "          5 : 0.038000000000000006 :  0.03799999048225064 :  None\n",
      "          6 : 0.038000000000000006 :  0.03799999050033599 :  None\n",
      "          7 : 0.038000000000000006 :  0.03799999052986905 :  None\n",
      "          8 : 0.038000000000000006 :  0.03799999054942424 :  None\n",
      "          9 : 0.038000000000000006 :  0.03799999053286912 :  None\n",
      "P[0] 0.19372545781376396\n",
      "P[1] 0.16547861902898284\n",
      "P[2] 0.2106389830517895\n",
      "P[3] 0.1737297367991111\n",
      "P[4] 0.17360373972771057\n",
      "P[5] 0.17668294918887406\n",
      "P[6] 0.16166138087692086\n",
      "P[7] 0.16305246617554206\n",
      "P[8] 0.17768436289321501\n",
      "P[9] 0.17643469706794054\n",
      "obj 1.7726923926238507\n",
      "WARNING: Loading a SolverResults object with a warning status into\n",
      "    model.name=\"Power Control in Wireless Communication 2\";\n",
      "      - termination condition: infeasible\n",
      "      - message from solver: Ipopt 3.13.4\\x3a Converged to a locally\n",
      "        infeasible point. Problem may be infeasible.\n",
      "Model Power Control in Wireless Communication 2\n",
      "\n",
      "  Variables:\n",
      "    P : Size=10, Index=P_index\n",
      "        Key : Lower : Value               : Upper : Fixed : Stale : Domain\n",
      "          0 :   0.1 :  0.1830221399436334 :     5 : False : False :  Reals\n",
      "          1 :   0.1 :                 0.1 :     5 : False : False :  Reals\n",
      "          2 :   0.1 :                 0.1 :     5 : False : False :  Reals\n",
      "          3 :   0.1 : 0.14714618573623495 :     5 : False : False :  Reals\n",
      "          4 :   0.1 :                 0.1 :     5 : False : False :  Reals\n",
      "          5 :   0.1 :                 0.1 :     5 : False : False :  Reals\n",
      "          6 :   0.1 :                 0.1 :     5 : False : False :  Reals\n",
      "          7 :   0.1 : 0.20785624729953958 :     5 : False : False :  Reals\n",
      "          8 :   0.1 :                 0.1 :     5 : False : False :  Reals\n",
      "          9 :   0.1 : 0.17595367841417797 :     5 : False : False :  Reals\n",
      "\n",
      "  Objectives:\n",
      "    obj : Size=1, Index=None, Active=True\n",
      "        Key  : Active : Value\n",
      "        None :   True : 1.313978251393586\n",
      "\n",
      "  Constraints:\n",
      "    ineqconstr : Size=10\n",
      "        Key : Lower  : Body                  : Upper\n",
      "          0 : 0.0625 :  0.062499981601763094 :  None\n",
      "          1 : 0.0625 : -0.022606323738776357 :  None\n",
      "          2 : 0.0625 : -0.040984292146271806 :  None\n",
      "          3 : 0.0625 :  0.062499984884753806 :  None\n",
      "          4 : 0.0625 :  -0.06490571367728307 :  None\n",
      "          5 : 0.0625 :  -0.07505210410895982 :  None\n",
      "          6 : 0.0625 :  -0.05512256772570456 :  None\n",
      "          7 : 0.0625 :  0.062499981871959015 :  None\n",
      "          8 : 0.0625 :  -0.03657298862389691 :  None\n",
      "          9 : 0.0625 :   0.06249998184439509 :  None\n",
      "P[0] 0.1830221399436334\n",
      "P[1] 0.1\n",
      "P[2] 0.1\n",
      "P[3] 0.14714618573623495\n",
      "P[4] 0.1\n",
      "P[5] 0.1\n",
      "P[6] 0.1\n",
      "P[7] 0.20785624729953958\n",
      "P[8] 0.1\n",
      "P[9] 0.17595367841417797\n",
      "obj 1.313978251393586\n"
     ]
    },
    {
     "data": {
      "text/plain": "<Figure size 432x288 with 1 Axes>",
      "image/png": "[encoded data removed]"
     },
     "metadata": {
      "needs_background": "light"
     },
     "output_type": "display_data"
    },
    {
     "data": {
      "text/plain": "<IPython.core.display.Markdown object>",
      "text/markdown": "3. S_min gets larger"
     },
     "metadata": {},
     "output_type": "display_data"
    },
    {
     "data": {
      "text/plain": "<Figure size 432x288 with 1 Axes>",
      "image/png": "[encoded data removed]"
     },
     "metadata": {
      "needs_background": "light"
     },
     "output_type": "display_data"
    },
    {
     "data": {
      "text/plain": "<Figure size 432x288 with 1 Axes>",
      "image/png": "[encoded data removed]"
     },
     "metadata": {
      "needs_background": "light"
     },
     "output_type": "display_data"
    }
   ],
   "source": [
    "## Question 3.3.2 (Power Control in Wireless Communication)\n",
    "display(Markdown(r\"2. S_min = 0\"))\n",
    "rand.seed(8941966)\n",
    "\n",
    "# A Pyomo model for the Power Control in Wireless Communication\n",
    "model = pyo.AbstractModel()\n",
    "model.name = 'Power Control in Wireless Communication'\n",
    "N = 10\n",
    "P_min = 0.1\n",
    "P_max = 5\n",
    "sigma = 0.2\n",
    "G = 0.8*np.random.rand(N,N)+0.1\n",
    "np.fill_diagonal(G, 1)\n",
    "S_min = 0\n",
    "\n",
    "# note boundaries of variables and initial condition\n",
    "model.P = pyo.Var(range(N), bounds=(P_min ,P_max), initialize=P_min)\n",
    "\n",
    "def objective(model):\n",
    "    return sum(model.P[i] for i in range(N))\n",
    "\n",
    "def ineqconstr(model,i):\n",
    "    return (G[i,i]*model.P[i]) - S_min*(sum(G[i,j]*model.P[j] for j in range(N)) - G[i,i]*model.P[i]) >= S_min*sigma\n",
    "\n",
    "model.obj = pyo.Objective(rule=objective, sense=pyo.minimize)\n",
    "model.ineqconstr = pyo.Constraint(range(N),rule=ineqconstr)\n",
    "\n",
    "# create an instance of the problem\n",
    "acommunicationproblem = model.create_instance()\n",
    "# this is to access Lagrange multipliers (dual variables)\n",
    "acommunicationproblem.dual = pyo.Suffix(direction=pyo.Suffix.IMPORT)\n",
    "\n",
    "# define solver\n",
    "opt = pyo.SolverFactory('ipopt') # we can use other solvers here as well\n",
    "\n",
    "results = opt.solve(acommunicationproblem)\n",
    "\n",
    "# show results\n",
    "acommunicationproblem.display()\n",
    "\n",
    "def display_lagrange(instance):\n",
    "    # display all duals\n",
    "    print (\"Duals\")\n",
    "    for c in instance.component_objects(pyo.Constraint, active=True):\n",
    "        print (\"   Constraint\",c)\n",
    "        for index in c:\n",
    "            print (\"      \", index, instance.dual[c[index]])\n",
    "\n",
    "display_lagrange(acommunicationproblem)\n",
    "\n",
    "def disp_soln(instance):\n",
    "    output = []\n",
    "    for v in instance.component_data_objects(pyo.Var, active=True):\n",
    "        output.append(pyo.value(v))\n",
    "        print(v, pyo.value(v))\n",
    "    print (instance.obj, pyo.value(instance.obj))\n",
    "    output.append(pyo.value(instance.obj))\n",
    "    return output\n",
    "\n",
    "\n",
    "P_value = disp_soln(acommunicationproblem)\n",
    "\n",
    "plt.scatter(range(N), P_value[0:N], alpha=0.5)\n",
    "plt.show()\n",
    "\n",
    "\n",
    "## Question 3.3.3 (Power Control in Wireless Communication)\n",
    "display(Markdown(r\"3. S_min gets larger\"))\n",
    "rand.seed(8941966)\n",
    "\n",
    "## S_min = 0.19\n",
    "# A Pyomo model for the Power Control in Wireless Communication\n",
    "model = pyo.AbstractModel()\n",
    "model.name = 'Power Control in Wireless Communication 1'\n",
    "N = 10\n",
    "P_min = 0.1\n",
    "P_max = 5\n",
    "sigma = 0.2\n",
    "G = 0.8*np.random.rand(N,N)+0.1\n",
    "np.fill_diagonal(G, 1)\n",
    "S_min = 0.19\n",
    "\n",
    "# note boundaries of variables and initial condition\n",
    "model.P = pyo.Var(range(N), bounds=(P_min ,P_max), initialize=P_min)\n",
    "\n",
    "def objective(model):\n",
    "    return sum(model.P[i] for i in range(N))\n",
    "\n",
    "def ineqconstr(model,i):\n",
    "    return (G[i,i]*model.P[i]) - S_min*(sum(G[i,j]*model.P[j] for j in range(N)) - G[i,i]*model.P[i]) >= S_min*sigma\n",
    "\n",
    "model.obj = pyo.Objective(rule=objective, sense=pyo.minimize)\n",
    "model.ineqconstr = pyo.Constraint(range(N),rule=ineqconstr)\n",
    "\n",
    "# create an instance of the problem\n",
    "acommunicationproblem1 = model.create_instance()\n",
    "# this is to access Lagrange multipliers (dual variables)\n",
    "acommunicationproblem1.dual = pyo.Suffix(direction=pyo.Suffix.IMPORT)\n",
    "\n",
    "# define solver\n",
    "opt = pyo.SolverFactory('ipopt') # we can use other solvers here as well\n",
    "\n",
    "results = opt.solve(acommunicationproblem1)\n",
    "# show results\n",
    "acommunicationproblem1.display()\n",
    "P_value = disp_soln(acommunicationproblem1)\n",
    "\n",
    "plt.scatter(range(N), P_value[0:N], alpha=0.5)\n",
    "plt.title('$S_{min} = 0.19$')\n",
    "plt.show()\n",
    "\n",
    "## S_min = 0.25\n",
    "# A Pyomo model for the Power Control in Wireless Communication\n",
    "model = pyo.AbstractModel()\n",
    "model.name = 'Power Control in Wireless Communication 2'\n",
    "N = 10\n",
    "P_min = 0.1\n",
    "P_max = 5\n",
    "sigma = 0.25\n",
    "G = 0.8*np.random.rand(N,N)+0.1\n",
    "np.fill_diagonal(G, 1)\n",
    "S_min = 0.25\n",
    "\n",
    "# note boundaries of variables and initial condition\n",
    "model.P = pyo.Var(range(N), bounds=(P_min ,P_max), initialize=P_min)\n",
    "\n",
    "def objective(model):\n",
    "    return sum(model.P[i] for i in range(N))\n",
    "\n",
    "def ineqconstr(model,i):\n",
    "    return (G[i,i]*model.P[i]) - S_min*(sum(G[i,j]*model.P[j] for j in range(N)) - G[i,i]*model.P[i]) >= S_min*sigma\n",
    "\n",
    "model.obj = pyo.Objective(rule=objective, sense=pyo.minimize)\n",
    "model.ineqconstr = pyo.Constraint(range(N),rule=ineqconstr)\n",
    "\n",
    "# create an instance of the problem\n",
    "acommunicationproblem2 = model.create_instance()\n",
    "# this is to access Lagrange multipliers (dual variables)\n",
    "acommunicationproblem2.dual = pyo.Suffix(direction=pyo.Suffix.IMPORT)\n",
    "\n",
    "# define solver\n",
    "opt = pyo.SolverFactory('ipopt') # we can use other solvers here as well\n",
    "\n",
    "results = opt.solve(acommunicationproblem2)\n",
    "# show results\n",
    "acommunicationproblem2.display()\n",
    "P_value = disp_soln(acommunicationproblem2)\n",
    "\n",
    "plt.scatter(range(N), P_value[0:N], alpha=0.5)\n",
    "plt.title('$S_{min} = 0.25$')\n",
    "plt.show()"
   ],
   "metadata": {
    "collapsed": false,
    "pycharm": {
     "name": "#%%\n"
    }
   }
  },
  {
   "cell_type": "markdown",
   "source": [
    "1.  Lagrangian: $L(\\lambda, \\mu_i, x_i) = \\Sigma_{i=1}^N P_i + \\Sigma_{i=1}^N \\mu_{1i}(-\\frac{G_{ii}P_i}{\\sigma_i + \\Sigma_{k\\ne i} G_{ik}P_k} + S_{min}) + \\Sigma_{i=1}^N \\mu_{2i}(P_{min} - P_i) + \\Sigma_{i=1}^N \\mu_{3i} (P_i-P_{max})$<br/>\n",
    "KKT conditions: <br/>\n",
    "$N - \\mu_{1i}G_{ii} -\\mu_{2i} + \\mu_{3i} = 0$<br/>\n",
    "$\\mu_{1i} \\ge 0$ <br/>\n",
    "$\\mu_{2i} \\ge 0$ <br/>\n",
    "$\\mu_{3i} \\ge 0$ <br/>\n",
    "$\\mu_{1i} (-\\frac{G_{ii}P_i}{\\sigma_i + \\Sigma_{k\\ne i} G_{ik}P_k} + S_{min}) = 0$ <br/>\n",
    "$\\mu_{2i}(P_{min} - P_i)  = 0$ <br/>\n",
    "$\\mu_{3i} (P_i-P_{max})= 0$ <br/>\n",
    "\n",
    "3. If we choose a very large $S_{min}$, the solver would converge to a locally infeasible point which means we cannot get a feasible solution."
   ],
   "metadata": {
    "collapsed": false
   }
  },
  {
   "cell_type": "code",
   "execution_count": 15,
   "outputs": [
    {
     "data": {
      "text/plain": "<IPython.core.display.Markdown object>",
      "text/markdown": "1. Constrained Optimisation"
     },
     "metadata": {},
     "output_type": "display_data"
    },
    {
     "name": "stdout",
     "output_type": "stream",
     "text": [
      "Model 1. Constrained Optimisation\n",
      "\n",
      "  Variables:\n",
      "    x : Size=1, Index=None\n",
      "        Key  : Lower : Value : Upper : Fixed : Stale : Domain\n",
      "        None :     2 :   2.0 :     4 : False : False :  Reals\n",
      "\n",
      "  Objectives:\n",
      "    obj : Size=1, Index=None, Active=True\n",
      "        Key  : Active : Value\n",
      "        None :   True :   5.0\n",
      "\n",
      "  Constraints:\n",
      "    None\n",
      "Duals\n",
      "x 2.0\n",
      "obj 5.0\n"
     ]
    },
    {
     "data": {
      "text/plain": "<IPython.core.display.Markdown object>",
      "text/markdown": "2. Penalty Optimisation"
     },
     "metadata": {},
     "output_type": "display_data"
    },
    {
     "data": {
      "text/plain": "<Figure size 432x288 with 1 Axes>",
      "image/png": "[encoded data removed]"
     },
     "metadata": {
      "needs_background": "light"
     },
     "output_type": "display_data"
    }
   ],
   "source": [
    "## Question 3.4.1 (Constrained Optimisation)\n",
    "display(Markdown(r\"1. Constrained Optimisation\"))\n",
    "rand.seed(8941966)\n",
    "\n",
    "# A Pyomo model for the Constrained Optimisation\n",
    "model = pyo.AbstractModel()\n",
    "model.name = '1. Constrained Optimisation'\n",
    "\n",
    "# note boundaries of variables and initial condition\n",
    "model.x = pyo.Var(bounds=(2,4), initialize=2)\n",
    "\n",
    "def objective(model):\n",
    "    return model.x**2 + 1\n",
    "\n",
    "model.obj = pyo.Objective(rule=objective, sense=pyo.minimize)\n",
    "\n",
    "# create an instance of the problem\n",
    "aconstrainedproblem = model.create_instance()\n",
    "# this is to access Lagrange multipliers (dual variables)\n",
    "aconstrainedproblem.dual = pyo.Suffix(direction=pyo.Suffix.IMPORT)\n",
    "\n",
    "# define solver\n",
    "opt = pyo.SolverFactory('ipopt') # we can use other solvers here as well\n",
    "\n",
    "results = opt.solve(aconstrainedproblem)\n",
    "\n",
    "# show results\n",
    "aconstrainedproblem.display()\n",
    "\n",
    "def display_lagrange(instance):\n",
    "    # display all duals\n",
    "    print (\"Duals\")\n",
    "    for c in instance.component_objects(pyo.Constraint, active=True):\n",
    "        print (\"   Constraint\",c)\n",
    "        for index in c:\n",
    "            print (\"      \", index, instance.dual[c[index]])\n",
    "\n",
    "display_lagrange(aconstrainedproblem)\n",
    "\n",
    "def disp_soln(instance):\n",
    "    output = []\n",
    "    for v in instance.component_data_objects(pyo.Var, active=True):\n",
    "        output.append(pyo.value(v))\n",
    "        print(v, pyo.value(v))\n",
    "    print (instance.obj, pyo.value(instance.obj))\n",
    "    output.append(pyo.value(instance.obj))\n",
    "    return output\n",
    "\n",
    "\n",
    "disp_soln(aconstrainedproblem)\n",
    "\n",
    "## Question 3.4.2 (Penalty Optimisation)\n",
    "display(Markdown(r\"2. Penalty Optimisation\"))\n",
    "rand.seed(8941966)\n",
    "\n",
    "beta = (0.1, 1, 5, 10, 20, 30)\n",
    "x_min = []\n",
    "\n",
    "# Objective\n",
    "def objective(model):\n",
    "    return model.x**2 + 1 + model.beta*(-pyo.log(model.x-2) - pyo.log(4-model.x))\n",
    "\n",
    "# solution\n",
    "def disp_soln(instance):\n",
    "    output = []\n",
    "    for v in instance.component_data_objects(pyo.Var, active=True):\n",
    "        output.append(pyo.value(v))\n",
    "\n",
    "    output.append(pyo.value(instance.obj))\n",
    "    return output\n",
    "\n",
    "def optimize(i):\n",
    "    # A Pyomo model for the Penalty Optimisation\n",
    "    model = pyo.AbstractModel()\n",
    "    # note boundaries of variables and initial condition\n",
    "    model.beta = beta[i]\n",
    "    model.x = pyo.Var(initialize=3)\n",
    "    model.obj = pyo.Objective(rule=objective, sense=pyo.minimize)\n",
    "\n",
    "    # create an instance of the problem\n",
    "    apenaltyproblem = model.create_instance()\n",
    "\n",
    "    # define solver\n",
    "    opt = pyo.SolverFactory('ipopt') # we can use other solvers here as well\n",
    "    results = opt.solve(apenaltyproblem)\n",
    "    sol = disp_soln(apenaltyproblem)\n",
    "\n",
    "    return sol\n",
    "\n",
    "for i in range(len(beta)):\n",
    "    sol = optimize(i)\n",
    "    x_min.append(sol[0])\n",
    "\n",
    "plt.scatter(beta, x_min, alpha=0.5)\n",
    "plt.hlines(2, min(beta), max(beta),linestyles='dashed')\n",
    "plt.title(r'Solve for different $\\beta$')\n",
    "plt.show()\n"
   ],
   "metadata": {
    "collapsed": false,
    "pycharm": {
     "name": "#%%\n"
    }
   }
  },
  {
   "cell_type": "markdown",
   "source": [
    "1. Objective: $f(x) = x^2 + 1$<br/>\n",
    "Decision variable(s):  $x$<br/>\n",
    "Constrains: $2 \\le x \\le 4$\n",
    "\n",
    "2. If $\\beta$ we choose is too large, the minimizer we get will be far from the real optimisation solution.\n"
   ],
   "metadata": {
    "collapsed": false,
    "pycharm": {
     "name": "#%% md\n"
    }
   }
  },
  {
   "cell_type": "code",
   "execution_count": 16,
   "outputs": [
    {
     "data": {
      "text/plain": "<IPython.core.display.Markdown object>",
      "text/markdown": "3. MPC"
     },
     "metadata": {},
     "output_type": "display_data"
    },
    {
     "data": {
      "text/plain": "<Figure size 432x288 with 1 Axes>",
      "image/png": "[encoded data removed]"
     },
     "metadata": {
      "needs_background": "light"
     },
     "output_type": "display_data"
    },
    {
     "data": {
      "text/plain": "<IPython.core.display.Markdown object>",
      "text/markdown": "$f_{min} = 1.471554$"
     },
     "metadata": {},
     "output_type": "display_data"
    }
   ],
   "source": [
    "## Question 3.5.3 (MPC)\n",
    "display(Markdown(r\"3. MPC\"))\n",
    "rand.seed(8941966)\n",
    "\n",
    "# A Pyomo model for MPC\n",
    "model = pyo.AbstractModel()\n",
    "model.name = '3. MPC'\n",
    "\n",
    "# note boundaries of variables and initial condition\n",
    "T = 5\n",
    "alpha = 0.5\n",
    "beta = 1\n",
    "model.x1 = pyo.Var(range(T), bounds=(-1,1), initialize=0)\n",
    "model.x2 = pyo.Var(range(T), bounds=(-1,1), initialize=0)\n",
    "model.mu = pyo.Var(range(T), bounds=(-0.5,0.5), initialize=0)\n",
    "\n",
    "def objective(model):\n",
    "    return alpha*sum(model.x1[i]**2 for i in range(T-1)) + alpha*sum(model.x2[i]**2 for i in range(T-1)) + alpha*sum(model.mu[i]**2 for i in range(T-1)) +beta*(model.x1[T-1]**2 + model.x2[T-1]**2 + model.mu[T-1]**2)\n",
    "\n",
    "def eqconstr1(model,i):\n",
    "    return model.x1[i+1] == model.x1[i] + model.x2[i]\n",
    "\n",
    "def eqconstr2(model,i):\n",
    "    return model.x2[i+1] == model.x2[i] + model.mu[i]\n",
    "\n",
    "def eqconstr3(model):\n",
    "    return model.x1[T-1] == 1\n",
    "\n",
    "def eqconstr4(model):\n",
    "    return model.x2[T-1] == 0\n",
    "\n",
    "\n",
    "model.obj = pyo.Objective(rule=objective, sense=pyo.minimize)\n",
    "model.eqconstr1 = pyo.Constraint(range(T-1), rule=eqconstr1)\n",
    "model.eqconstr2 = pyo.Constraint(range(T-1), rule=eqconstr2)\n",
    "model.eqconstr3 = pyo.Constraint(rule=eqconstr3)\n",
    "model.eqconstr4 = pyo.Constraint(rule=eqconstr4)\n",
    "\n",
    "# create an instance of the problem\n",
    "aMPCproblem = model.create_instance()\n",
    "\n",
    "# define solver\n",
    "opt = pyo.SolverFactory('ipopt') # we can use other solvers here as well\n",
    "\n",
    "results = opt.solve(aMPCproblem)\n",
    "\n",
    "# show results\n",
    "#aconstrainedproblem.display()\n",
    "\n",
    "def disp_soln(instance):\n",
    "    output = []\n",
    "    for v in instance.component_data_objects(pyo.Var, active=True):\n",
    "        output.append(pyo.value(v))\n",
    "    output.append(pyo.value(instance.obj))\n",
    "    return output\n",
    "\n",
    "\n",
    "output = disp_soln(aMPCproblem)\n",
    "x1 = output[0:T]\n",
    "x2 = output[T:2*T]\n",
    "mu = output[2*T:3*T]\n",
    "func_value = output[3*T]\n",
    "\n",
    "x = np.arange(T)\n",
    "\n",
    "plt.step(x, x1, label='x1')\n",
    "plt.plot(x, x1, 'C0o', alpha=0.5)\n",
    "\n",
    "plt.step(x, x2, where='mid', label='x2')\n",
    "plt.plot(x, x2, 'C1o', alpha=0.5)\n",
    "\n",
    "plt.step(x, mu, where='post', label='u')\n",
    "plt.plot(x, mu, 'C2o', alpha=0.5)\n",
    "\n",
    "plt.legend(title='Parameter where:')\n",
    "plt.show()\n",
    "\n",
    "display(Markdown(r\"$f_{min} = %f$\"%(func_value)))"
   ],
   "metadata": {
    "collapsed": false,
    "pycharm": {
     "name": "#%%\n"
    }
   }
  },
  {
   "cell_type": "markdown",
   "source": [
    "1. Considering a double integrator: $\\ddot{y} = u$.<br/>\n",
    "We have: $\\dot{x}(t) = \\begin{bmatrix} 0 & 1\\\\\n",
    "0 & 0\n",
    "\\end{bmatrix} x(t) +\n",
    "\\begin{bmatrix} 0 \\\\\n",
    "1\n",
    "\\end{bmatrix} u(t)$.<br/>\n",
    "By discretising, we have: $x((k+1)T) = (I + TA)x(kT) + TBu(kT)$.<br/>\n",
    "Assuming T = 1 and k = t, we finally have:<br/>\n",
    "$x_{t+1} = \\begin{bmatrix} 1 & 1\\\\\n",
    "0 & 1\n",
    "\\end{bmatrix} x_t +\n",
    "\\begin{bmatrix} 0 \\\\\n",
    "1\n",
    "\\end{bmatrix} u_t$<br/>\n",
    "\n",
    "2. Minimize $\\Sigma_{t=1}^{T-1} \\alpha(||x_t||^2 + ||x_t||^2) + \\beta ||x_T||^2$<br/>\n",
    "Subject to: <br/>\n",
    "$-1 \\le x_t \\le 1$ <br/>\n",
    "$-0.5 \\le u_t \\le 0.5$ <br/>\n",
    "$x_T = \\begin{bmatrix} 1 \\\\\n",
    "0\n",
    "\\end{bmatrix}$ <br/>\n",
    "Assume $\\alpha = 0.5$, $\\beta = 1$ and $T=5$."
   ],
   "metadata": {
    "collapsed": false,
    "pycharm": {
     "name": "#%% md\n"
    }
   }
  }
 ],
 "metadata": {
  "kernelspec": {
   "display_name": "Python 3",
   "language": "python",
   "name": "python3"
  },
  "language_info": {
   "codemirror_mode": {
    "name": "ipython",
    "version": 2
   },
   "file_extension": ".py",
   "mimetype": "text/x-python",
   "name": "python",
   "nbconvert_exporter": "python",
   "pygments_lexer": "ipython2",
   "version": "2.7.6"
  }
 },
 "nbformat": 4,
 "nbformat_minor": 0
}