{
 "cells": [
  {
   "cell_type": "code",
   "execution_count": 1,
   "metadata": {},
   "outputs": [
    {
     "name": "stdout",
     "output_type": "stream",
     "text": [
      "HelloWorld\n",
      "12.5\n"
     ]
    }
   ],
   "source": [
    "x = 34.5 - 23 # right hand side can be an expression\n",
    "y = \"Hello\" # or a string\n",
    "z = 3 # let us assign it to an integer value and write a simple conditional statement\n",
    "if z == 3 or y == \"Hello\": \n",
    "    x = x + 1 \n",
    "    y = y + \"World\" # String concatenation\n",
    "    print(y)\n",
    "    print(x)"
   ]
  },
  {
   "cell_type": "code",
   "execution_count": 2,
   "metadata": {},
   "outputs": [
    {
     "name": "stdout",
     "output_type": "stream",
     "text": [
      "Hello World\n",
      "12.5\n"
     ]
    }
   ],
   "source": [
    "# TODO: The code above outputs \"HelloWorld\" without spacing. Could you fix this?\n",
    "x = 34.5 - 23 # right hand side can be an expression\n",
    "y = \"Hello\" # or a string\n",
    "z = 3 # let us assign it to an integer value and write a simple conditional statement\n",
    "if z == 3 or y == \"Hello\": \n",
    "    x = x + 1 \n",
    "    y = y + \" World\" # String concatenation\n",
    "    print(y)\n",
    "    print(x)"
   ]
  },
  {
   "cell_type": "code",
   "execution_count": 4,
   "metadata": {},
   "outputs": [
    {
     "name": "stdout",
     "output_type": "stream",
     "text": [
      "Hello World\n",
      "12.5\n"
     ]
    }
   ],
   "source": [
    "# TODO: Change the code above so that it outputs the result only when both `z == 3` and `y == \"\n",
    "x = 34.5 - 23 # right hand side can be an expression\n",
    "y = \"Hello\" # or a string\n",
    "z = 3 # let us assign it to an integer value and write a simple conditional statement\n",
    "if z == 3 and y == \"Hello\": \n",
    "    x = x + 1 \n",
    "    y = y + \" World\" # String concatenation\n",
    "    print(y)\n",
    "    print(x)"
   ]
  },
  {
   "cell_type": "code",
   "execution_count": 5,
   "metadata": {},
   "outputs": [
    {
     "name": "stdout",
     "output_type": "stream",
     "text": [
      "HelloWorld\n",
      "1000\n"
     ]
    }
   ],
   "source": [
    "# TODO: Print \"HelloWorld\" when x = 999\n",
    "x = 999 # right hand side can be an expression\n",
    "y = \"Hello\" # or a string\n",
    "z = 3 # let us assign it to an integer value and write a simple conditional statement\n",
    "if x == 999: \n",
    "    x = x + 1 \n",
    "    y = y + \"World\" # String concatenation\n",
    "    print(y)\n",
    "    print(x)"
   ]
  },
  {
   "cell_type": "code",
   "execution_count": 6,
   "metadata": {},
   "outputs": [
    {
     "name": "stdout",
     "output_type": "stream",
     "text": [
      "5\n",
      "Type: <class 'int'>\n"
     ]
    }
   ],
   "source": [
    "a = 5\n",
    "\n",
    "# print value of a\n",
    "print(a)\n",
    "\n",
    "# Formatted output - pythonic way\n",
    "print(\"Type: {}\".format(type(a)))"
   ]
  },
  {
   "cell_type": "code",
   "execution_count": 7,
   "metadata": {},
   "outputs": [
    {
     "name": "stdout",
     "output_type": "stream",
     "text": [
      "False\n"
     ]
    }
   ],
   "source": [
    "# Compare these two:\n",
    "a = 5 # assignment\n",
    "b = 4 # assignment\n",
    "b == a # comparison (returns True or False)\n",
    "print(b == a)"
   ]
  },
  {
   "cell_type": "code",
   "execution_count": 8,
   "metadata": {},
   "outputs": [
    {
     "name": "stdout",
     "output_type": "stream",
     "text": [
      "a = 5, b = 4\n",
      "+ operation: 9\n",
      "- operation: 1\n",
      "* operation: 20\n",
      "/ operation: 1.25\n",
      "% operation: 1\n"
     ]
    }
   ],
   "source": [
    "print(\"a = {}, b = {}\".format(a, b))\n",
    "print(\"+ operation: {}\".format(a + b))\n",
    "print(\"- operation: {}\".format(a - b))\n",
    "print(\"* operation: {}\".format(a * b))\n",
    "print(\"/ operation: {}\".format(a / b))\n",
    "print(\"% operation: {}\".format(a % b))"
   ]
  },
  {
   "cell_type": "code",
   "execution_count": 9,
   "metadata": {},
   "outputs": [
    {
     "name": "stdout",
     "output_type": "stream",
     "text": [
      "True\n",
      "False\n",
      "False\n"
     ]
    }
   ],
   "source": [
    "a = True\n",
    "b = False\n",
    "print(a or b)\n",
    "print(a and b)\n",
    "print(not a)"
   ]
  },
  {
   "cell_type": "code",
   "execution_count": null,
   "metadata": {},
   "outputs": [],
   "source": []
  }
 ],
 "metadata": {
  "kernelspec": {
   "display_name": "Python 3",
   "language": "python",
   "name": "python3"
  },
  "language_info": {
   "codemirror_mode": {
    "name": "ipython",
    "version": 3
   },
   "file_extension": ".py",
   "mimetype": "text/x-python",
   "name": "python",
   "nbconvert_exporter": "python",
   "pygments_lexer": "ipython3",
   "version": "3.8.5"
  }
 },
 "nbformat": 4,
 "nbformat_minor": 4
}
