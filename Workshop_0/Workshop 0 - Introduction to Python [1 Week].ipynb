{
 "cells": [
  {
   "cell_type": "markdown",
   "metadata": {},
   "source": [
    "# A Brief Introduction to Python"
   ]
  },
  {
   "cell_type": "markdown",
   "metadata": {},
   "source": [
    "## Elements of Python programming"
   ]
  },
  {
   "cell_type": "code",
   "execution_count": 38,
   "metadata": {
    "scrolled": false
   },
   "outputs": [
    {
     "name": "stdout",
     "output_type": "stream",
     "text": [
      "HelloWorld\n",
      "12.5\n"
     ]
    }
   ],
   "source": [
    "x = 34.5 - 23 # right hand side can be an expression\n",
    "y = \"Hello\" # or a string\n",
    "z = 3 # let us assign it to an integer value and write a simple conditional statement\n",
    "if z == 3 or y == \"Hello\": \n",
    "    x = x + 1 \n",
    "    y = y + \"World\" # String concatenation\n",
    "    print(y)\n",
    "    print(x)"
   ]
  },
  {
   "cell_type": "code",
   "execution_count": 2,
   "metadata": {},
   "outputs": [
    {
     "name": "stdout",
     "output_type": "stream",
     "text": [
      "Hello World\n",
      "12.5\n"
     ]
    }
   ],
   "source": [
    "# TODO: The code above outputs \"HelloWorld\" without spacing. Could you fix this?\n",
    "x = 34.5 - 23 # right hand side can be an expression\n",
    "y = \"Hello\" # or a string\n",
    "z = 3 # let us assign it to an integer value and write a simple conditional statement\n",
    "if z == 3 or y == \"Hello\": \n",
    "    x = x + 1 \n",
    "    y = y + \" World\" # String concatenation\n",
    "    print(y)\n",
    "    print(x)"
   ]
  },
  {
   "cell_type": "code",
   "execution_count": 4,
   "metadata": {},
   "outputs": [
    {
     "name": "stdout",
     "output_type": "stream",
     "text": [
      "Hello World\n",
      "12.5\n"
     ]
    }
   ],
   "source": [
    "# TODO: Change the code above so that it outputs the result only when both `z == 3` and `y == \"\n",
    "x = 34.5 - 23 # right hand side can be an expression\n",
    "y = \"Hello\" # or a string\n",
    "z = 3 # let us assign it to an integer value and write a simple conditional statement\n",
    "if z == 3 and y == \"Hello\": \n",
    "    x = x + 1 \n",
    "    y = y + \" World\" # String concatenation\n",
    "    print(y)\n",
    "    print(x)"
   ]
  },
  {
   "cell_type": "code",
   "execution_count": 5,
   "metadata": {},
   "outputs": [
    {
     "name": "stdout",
     "output_type": "stream",
     "text": [
      "HelloWorld\n",
      "1000\n"
     ]
    }
   ],
   "source": [
    "# TODO: Print \"HelloWorld\" when x = 999\n",
    "x = 999 # right hand side can be an expression\n",
    "y = \"Hello\" # or a string\n",
    "z = 3 # let us assign it to an integer value and write a simple conditional statement\n",
    "if x == 999: \n",
    "    x = x + 1 \n",
    "    y = y + \"World\" # String concatenation\n",
    "    print(y)\n",
    "    print(x)"
   ]
  },
  {
   "cell_type": "markdown",
   "metadata": {},
   "source": [
    "## Variable assignment"
   ]
  },
  {
   "cell_type": "code",
   "execution_count": 6,
   "metadata": {},
   "outputs": [
    {
     "name": "stdout",
     "output_type": "stream",
     "text": [
      "5\n",
      "Type: <class 'int'>\n"
     ]
    }
   ],
   "source": [
    "a = 5\n",
    "\n",
    "# print value of a\n",
    "print(a)\n",
    "\n",
    "# Formatted output - pythonic way\n",
    "print(\"Type: {}\".format(type(a)))"
   ]
  },
  {
   "cell_type": "code",
   "execution_count": 7,
   "metadata": {},
   "outputs": [
    {
     "name": "stdout",
     "output_type": "stream",
     "text": [
      "False\n"
     ]
    }
   ],
   "source": [
    "# Compare these two:\n",
    "a = 5 # assignment\n",
    "b = 4 # assignment\n",
    "b == a # comparison (returns True or False)\n",
    "print(b == a)"
   ]
  },
  {
   "cell_type": "code",
   "execution_count": 8,
   "metadata": {},
   "outputs": [
    {
     "name": "stdout",
     "output_type": "stream",
     "text": [
      "a = 5, b = 4\n",
      "+ operation: 9\n",
      "- operation: 1\n",
      "* operation: 20\n",
      "/ operation: 1.25\n",
      "% operation: 1\n"
     ]
    }
   ],
   "source": [
    "print(\"a = {}, b = {}\".format(a, b))\n",
    "print(\"+ operation: {}\".format(a + b))\n",
    "print(\"- operation: {}\".format(a - b))\n",
    "print(\"* operation: {}\".format(a * b))\n",
    "print(\"/ operation: {}\".format(a / b))\n",
    "print(\"% operation: {}\".format(a % b))"
   ]
  },
  {
   "cell_type": "code",
   "execution_count": 9,
   "metadata": {},
   "outputs": [
    {
     "name": "stdout",
     "output_type": "stream",
     "text": [
      "True\n",
      "False\n",
      "False\n"
     ]
    }
   ],
   "source": [
    "a = True\n",
    "b = False\n",
    "print(a or b)\n",
    "print(a and b)\n",
    "print(not a)"
   ]
  },
  {
   "cell_type": "markdown",
   "metadata": {},
   "source": [
    "## Basic Data Types "
   ]
  },
  {
   "cell_type": "code",
   "execution_count": 11,
   "metadata": {},
   "outputs": [
    {
     "name": "stdout",
     "output_type": "stream",
     "text": [
      "Type: <class 'float'>\n"
     ]
    }
   ],
   "source": [
    "# a is assigned to an integer 5\n",
    "a = 5\n",
    "# b is a float number\n",
    "b = 2.456\n",
    "# c is assigned to a string\n",
    "c = \"I'm a string\"\n",
    "\n",
    "# TODO: identify type of c = a + b?\n",
    "print(\"Type: {}\".format(type(a+b)))"
   ]
  },
  {
   "cell_type": "code",
   "execution_count": 12,
   "metadata": {},
   "outputs": [
    {
     "name": "stdout",
     "output_type": "stream",
     "text": [
      "2\n"
     ]
    }
   ],
   "source": [
    "z = int(5 / 2) # Answer is `2`, integer division\n",
    "print(z)"
   ]
  },
  {
   "cell_type": "markdown",
   "metadata": {},
   "source": [
    "## Data Structures Overview "
   ]
  },
  {
   "cell_type": "markdown",
   "metadata": {},
   "source": [
    "### List "
   ]
  },
  {
   "cell_type": "code",
   "execution_count": 1,
   "metadata": {},
   "outputs": [
    {
     "name": "stdout",
     "output_type": "stream",
     "text": [
      "['abc', 34, 4.34, 23]\n",
      "34\n",
      "[100, 34, 4.34, 23]\n"
     ]
    }
   ],
   "source": [
    "# create a simple list example\n",
    "list_example = [\"abc\", 34, 4.34, 23]\n",
    "print(list_example)\n",
    "\n",
    "# access the second element in the list\n",
    "print(list_example[1])\n",
    "\n",
    "# Change the first element\n",
    "list_example[0] = 100\n",
    "print(list_example)"
   ]
  },
  {
   "cell_type": "markdown",
   "metadata": {},
   "source": [
    "### Tuples"
   ]
  },
  {
   "cell_type": "code",
   "execution_count": 21,
   "metadata": {},
   "outputs": [
    {
     "name": "stdout",
     "output_type": "stream",
     "text": [
      "4.56\n"
     ]
    }
   ],
   "source": [
    "# create a simple tuple example\n",
    "tuple_example = (23, 'abc', 4.56, (2,3), 'def')\n",
    "# print its 3rd element\n",
    "print(tuple_example[2])"
   ]
  },
  {
   "cell_type": "code",
   "execution_count": 15,
   "metadata": {},
   "outputs": [
    {
     "ename": "TypeError",
     "evalue": "'tuple' object does not support item assignment",
     "output_type": "error",
     "traceback": [
      "\u001b[0;31m---------------------------------------------------------------------------\u001b[0m",
      "\u001b[0;31mTypeError\u001b[0m                                 Traceback (most recent call last)",
      "\u001b[0;32m<ipython-input-15-6b61e77cf8e6>\u001b[0m in \u001b[0;36m<module>\u001b[0;34m\u001b[0m\n\u001b[1;32m      2\u001b[0m \u001b[0ma\u001b[0m \u001b[0;34m=\u001b[0m \u001b[0;34m(\u001b[0m\u001b[0;36m1\u001b[0m\u001b[0;34m,\u001b[0m \u001b[0;36m2\u001b[0m\u001b[0;34m,\u001b[0m \u001b[0;36m3\u001b[0m\u001b[0;34m)\u001b[0m\u001b[0;34m\u001b[0m\u001b[0;34m\u001b[0m\u001b[0m\n\u001b[1;32m      3\u001b[0m \u001b[0;31m# attempt to change its second element to 5. Error!\u001b[0m\u001b[0;34m\u001b[0m\u001b[0;34m\u001b[0m\u001b[0;34m\u001b[0m\u001b[0m\n\u001b[0;32m----> 4\u001b[0;31m \u001b[0ma\u001b[0m\u001b[0;34m[\u001b[0m\u001b[0;36m1\u001b[0m\u001b[0;34m]\u001b[0m \u001b[0;34m=\u001b[0m \u001b[0;36m5\u001b[0m\u001b[0;34m\u001b[0m\u001b[0;34m\u001b[0m\u001b[0m\n\u001b[0m\u001b[1;32m      5\u001b[0m \u001b[0mprint\u001b[0m\u001b[0;34m(\u001b[0m\u001b[0ma\u001b[0m\u001b[0;34m)\u001b[0m\u001b[0;34m\u001b[0m\u001b[0;34m\u001b[0m\u001b[0m\n",
      "\u001b[0;31mTypeError\u001b[0m: 'tuple' object does not support item assignment"
     ]
    }
   ],
   "source": [
    "# create a simple tuple\n",
    "a = (1, 2, 3)\n",
    "# attempt to change its second element to 5. Error!\n",
    "a[1] = 5\n",
    "print(a)"
   ]
  },
  {
   "cell_type": "code",
   "execution_count": 4,
   "metadata": {},
   "outputs": [
    {
     "name": "stdout",
     "output_type": "stream",
     "text": [
      "[1, 5, 3]\n"
     ]
    }
   ],
   "source": [
    "# create a simple list\n",
    "b = [1, 2, 3]\n",
    "# attempt to change its second element to 5. All good.\n",
    "b[1] = 5\n",
    "print(b)"
   ]
  },
  {
   "cell_type": "markdown",
   "metadata": {},
   "source": [
    "### Strings"
   ]
  },
  {
   "cell_type": "code",
   "execution_count": 8,
   "metadata": {},
   "outputs": [
    {
     "name": "stdout",
     "output_type": "stream",
     "text": [
      "good morning\n",
      "good morning\n"
     ]
    }
   ],
   "source": [
    "# Operator + is used for string concatenation, i.e.\n",
    "a = \"good\"\n",
    "b = \"morning\"\n",
    "print(a + \" \" + b)\n",
    "print('{} {}'.format(a,b))"
   ]
  },
  {
   "cell_type": "code",
   "execution_count": 9,
   "metadata": {},
   "outputs": [
    {
     "name": "stdout",
     "output_type": "stream",
     "text": [
      "4269\n"
     ]
    }
   ],
   "source": [
    "# TODO: what is the result of \"42\" + \"69\"?\n",
    "a = \"42\"\n",
    "b = \"69\"\n",
    "print(a + b)"
   ]
  },
  {
   "cell_type": "code",
   "execution_count": 10,
   "metadata": {},
   "outputs": [
    {
     "name": "stdout",
     "output_type": "stream",
     "text": [
      "Hello World\n"
     ]
    }
   ],
   "source": [
    "# TODO: check if string is immutable\n",
    "a = \"Hello\"\n",
    "a +=\" World\"\n",
    "print(a)"
   ]
  },
  {
   "cell_type": "code",
   "execution_count": 12,
   "metadata": {},
   "outputs": [
    {
     "name": "stdout",
     "output_type": "stream",
     "text": [
      "String is Immutable\n"
     ]
    }
   ],
   "source": [
    "a = \"Hello\"\n",
    "identity_a = id(a) \n",
    "a += \" World\"\n",
    "new_identity_a = id(a)\n",
    "if identity_a != new_identity_a:\n",
    "    print(\"String is Immutable\")"
   ]
  },
  {
   "cell_type": "code",
   "execution_count": 13,
   "metadata": {},
   "outputs": [
    {
     "name": "stdout",
     "output_type": "stream",
     "text": [
      "abc\n",
      "('abc', 4.56)\n",
      "34\n",
      "mon\n"
     ]
    }
   ],
   "source": [
    "print(tuple_example[1])\n",
    "print(tuple_example[1:3])\n",
    "print(list_example[1])\n",
    "print(\"demonstration\"[2:5])"
   ]
  },
  {
   "cell_type": "markdown",
   "metadata": {},
   "source": [
    "### Dictionaries"
   ]
  },
  {
   "cell_type": "code",
   "execution_count": 22,
   "metadata": {},
   "outputs": [
    {
     "name": "stdout",
     "output_type": "stream",
     "text": [
      "{'Andrew': 8806336, 'Emily': 6784346, 'Peter': 7658344, 'Lewis': 1122345}\n",
      "8806336\n",
      "{'Andrew': 8806336, 'Emily': 6784346, 'Peter': 7658344, 'Lewis': 1122345, 'Gingerbread': 1234567}\n",
      "N/A\n",
      "6784346\n",
      "N/A\n"
     ]
    }
   ],
   "source": [
    "phonebook = {'Andrew':8806336, 'Emily':6784346, 'Peter':7658344, 'Lewis':1122345} # initialize \n",
    "print(phonebook) # print all key-value pairs\n",
    "print(phonebook[\"Andrew\"]) # print the value corresponding to the key \"Andrew\"\n",
    "phonebook['Gingerbread'] = 1234567 # add a new key-value pair to the dictionary\n",
    "print(phonebook) # print all key-value pairs\n",
    "print(phonebook.get('Jason', 'N/A')) # Get an element with a default; prints \"N/A\"\n",
    "print(phonebook.get('Emily', 'N/A')) # Get an element with a default; prints \"6784346\"\n",
    "del phonebook['Andrew'] # delete the entry with the given key\n",
    "print(phonebook.get('Andrew', 'N/A')) # \"fish\" is no longer a key; prints \"N/A\""
   ]
  },
  {
   "cell_type": "markdown",
   "metadata": {},
   "source": [
    "## Conditional Statements "
   ]
  },
  {
   "cell_type": "code",
   "execution_count": 35,
   "metadata": {},
   "outputs": [],
   "source": [
    "# if statement\n",
    "def letterGrade(score):\n",
    "    if score >= 90:\n",
    "        letter = 'A'\n",
    "    elif score >= 80:\n",
    "        letter = 'B'\n",
    "    elif score >= 70:\n",
    "        letter = 'C'\n",
    "    elif score >= 60:\n",
    "        letter = 'D'\n",
    "    else:\n",
    "        letter = 'F'\n",
    "    return letter"
   ]
  },
  {
   "cell_type": "code",
   "execution_count": 27,
   "metadata": {},
   "outputs": [
    {
     "name": "stdout",
     "output_type": "stream",
     "text": [
      "115\n",
      "114\n",
      "113\n",
      "The tea is cool enough.\n"
     ]
    }
   ],
   "source": [
    "# while loop\n",
    "temperature = 115\n",
    "while temperature > 112: # first while loop code\n",
    "    print(temperature)\n",
    "    temperature = temperature - 1\n",
    "print('The tea is cool enough.')"
   ]
  },
  {
   "cell_type": "code",
   "execution_count": 36,
   "metadata": {},
   "outputs": [
    {
     "name": "stdout",
     "output_type": "stream",
     "text": [
      "C\n",
      "C++\n",
      "Perl\n",
      "Python\n"
     ]
    }
   ],
   "source": [
    "# for loop to iterate over a given sequence\n",
    "languages = [\"C\", \"C++\", \"Perl\", \"Python\"]\n",
    "for x in languages:\n",
    "    print(x)"
   ]
  },
  {
   "cell_type": "code",
   "execution_count": 37,
   "metadata": {},
   "outputs": [
    {
     "name": "stdout",
     "output_type": "stream",
     "text": [
      "1: C\n",
      "2: C++\n",
      "3: Perl\n",
      "4: Python\n"
     ]
    }
   ],
   "source": [
    "# If you want access to the index of each element within the body of a loop, use the built-in e\n",
    "languages = [\"C\", \"C++\", \"Perl\", \"Python\"]\n",
    "for idx, lang in enumerate(languages):\n",
    "    print('{}: {}'.format(idx + 1, lang))"
   ]
  },
  {
   "cell_type": "markdown",
   "metadata": {},
   "source": [
    "## Functions"
   ]
  },
  {
   "cell_type": "code",
   "execution_count": 39,
   "metadata": {},
   "outputs": [
    {
     "name": "stdout",
     "output_type": "stream",
     "text": [
      "negative\n",
      "zero\n",
      "positive\n"
     ]
    }
   ],
   "source": [
    "# def <name>(arg1, arg2, ..., argN):\n",
    "# <statements>\n",
    "# return <value>\n",
    "def sign(x):\n",
    "    if x > 0:\n",
    "        return 'positive'\n",
    "    elif x < 0:\n",
    "        return 'negative'\n",
    "    else:\n",
    "        return 'zero'\n",
    "    \n",
    "for x in [-1, 0, 1]:\n",
    "    print(sign(x))"
   ]
  },
  {
   "cell_type": "markdown",
   "metadata": {},
   "source": [
    "### Passing Arguments to Functions"
   ]
  },
  {
   "cell_type": "code",
   "execution_count": 40,
   "metadata": {},
   "outputs": [
    {
     "name": "stdout",
     "output_type": "stream",
     "text": [
      "Hello, Bob\n",
      "HELLO, FRED!\n"
     ]
    }
   ],
   "source": [
    "def hello(name, loud=False):\n",
    "    if loud:\n",
    "        print('HELLO, {}!'.format(name.upper()))\n",
    "    else:\n",
    "        print('Hello, {}'.format(name))\n",
    "        \n",
    "hello('Bob') # uses the default value for loud\n",
    "hello('Fred', loud=True)"
   ]
  },
  {
   "cell_type": "markdown",
   "metadata": {},
   "source": [
    "## Modules"
   ]
  },
  {
   "cell_type": "markdown",
   "metadata": {},
   "source": [
    "## Classes and Objects"
   ]
  },
  {
   "cell_type": "code",
   "execution_count": 41,
   "metadata": {},
   "outputs": [
    {
     "name": "stdout",
     "output_type": "stream",
     "text": [
      "Hello, Fred\n",
      "HELLO, FRED!\n"
     ]
    }
   ],
   "source": [
    "class Greeter(object):\n",
    "    # Constructor\n",
    "    def __init__(self, name):\n",
    "        self.name = name # Create an instance variable\n",
    "        \n",
    "    # Instance method\n",
    "    def greet(self, loud=False):\n",
    "        if loud:\n",
    "            print('HELLO, {}!'.format(self.name.upper()))\n",
    "        else:\n",
    "            print('Hello, {}'.format(self.name))\n",
    "            \n",
    "g = Greeter('Fred') # Construct an instance of the Greeter class\n",
    "g.greet() # Call an instance method\n",
    "g.greet(loud=True) # Call an instance method"
   ]
  },
  {
   "cell_type": "markdown",
   "metadata": {},
   "source": [
    "## Special Functions"
   ]
  },
  {
   "cell_type": "code",
   "execution_count": 42,
   "metadata": {},
   "outputs": [
    {
     "name": "stdout",
     "output_type": "stream",
     "text": [
      "5\n",
      "5\n"
     ]
    }
   ],
   "source": [
    "# Example 1\n",
    "def add(x, y):\n",
    "    return x + y\n",
    "\n",
    "# Call the function\n",
    "print(add(2, 3))\n",
    "\n",
    "add_lambda = lambda x, y : x + y\n",
    "print(add_lambda(2, 3))"
   ]
  },
  {
   "cell_type": "code",
   "execution_count": 45,
   "metadata": {},
   "outputs": [
    {
     "name": "stdout",
     "output_type": "stream",
     "text": [
      "22\n",
      "33\n"
     ]
    }
   ],
   "source": [
    "# you have a function definition that takes one argument\n",
    "# that argument will be multiplied with an unknown number\n",
    "def myfunc(n):\n",
    "    return lambda a : a * n\n",
    "\n",
    "# create the function mydoubler that multiplies an argument by 2\n",
    "mydoubler = myfunc(2)\n",
    "# give 11 as the argument\n",
    "print(mydoubler(11))\n",
    "\n",
    "# create the function mytripler that multiplies an argument by 3\n",
    "mytripler = myfunc(3)\n",
    "# give 11 as the argument\n",
    "print(mytripler(11))"
   ]
  },
  {
   "cell_type": "markdown",
   "metadata": {},
   "source": [
    "## External Libraries"
   ]
  },
  {
   "cell_type": "markdown",
   "metadata": {},
   "source": [
    "### Numpy"
   ]
  },
  {
   "cell_type": "code",
   "execution_count": 47,
   "metadata": {},
   "outputs": [
    {
     "name": "stdout",
     "output_type": "stream",
     "text": [
      "(3,)\n",
      "1 2 3\n",
      "[5 2 3]\n",
      "(2, 3)\n",
      "1 2 4\n"
     ]
    }
   ],
   "source": [
    "import numpy as np #import the numpy library to access it's functions\n",
    "\n",
    "a = np.array([1, 2, 3]) # Create a rank 1 array\n",
    "print(a.shape)\n",
    "print(a[0], a[1], a[2]) # Print each element\n",
    "a[0] = 5 # Change an element of the array\n",
    "print(a) \n",
    "\n",
    "b = np.array([[1,2,3],[4,5,6]]) # Create a rank 2 array\n",
    "print(b.shape)\n",
    "print(b[0, 0], b[0, 1], b[1, 0]) # Prints \"1 2 4\""
   ]
  },
  {
   "cell_type": "code",
   "execution_count": 48,
   "metadata": {},
   "outputs": [
    {
     "name": "stdout",
     "output_type": "stream",
     "text": [
      "[[0. 0.]\n",
      " [0. 0.]]\n",
      "[[1. 1.]]\n",
      "[[7 7]\n",
      " [7 7]]\n",
      "[[1. 0.]\n",
      " [0. 1.]]\n",
      "[[0.05456888 0.37940173]\n",
      " [0.88328855 0.82361385]]\n"
     ]
    }
   ],
   "source": [
    "# numpy functions that can be used to create arrays\n",
    "a = np.zeros((2,2)) # Create an array of all zeros\n",
    "print(a) \n",
    "\n",
    "b = np.ones((1,2)) # Create an array of all ones\n",
    "print(b) \n",
    "\n",
    "c = np.full((2,2), 7)\n",
    "print(c) \n",
    "\n",
    "d = np.eye(2) # Create a 2x2 identity matrix\n",
    "print(d) \n",
    "\n",
    "e = np.random.random((2,2)) # Create an array filled with random values\n",
    "print(e)"
   ]
  },
  {
   "cell_type": "markdown",
   "metadata": {},
   "source": [
    "### Array indexing"
   ]
  },
  {
   "cell_type": "code",
   "execution_count": 57,
   "metadata": {},
   "outputs": [
    {
     "name": "stdout",
     "output_type": "stream",
     "text": [
      "[[ 1  2  3  4]\n",
      " [ 5  6  7  8]\n",
      " [ 9 10 11 12]]\n",
      "[[2 3]\n",
      " [6 7]]\n",
      "2\n",
      "77\n"
     ]
    }
   ],
   "source": [
    "import numpy as np\n",
    "\n",
    "# Create the following rank 2 array with shape (3, 4)\n",
    "# [[ 1 2 3 4]\n",
    "# [ 5 6 7 8]\n",
    "# [ 9 10 11 12]]\n",
    "a = np.array([[1,2,3,4], [5,6,7,8], [9,10,11,12]])\n",
    "print(a)\n",
    "\n",
    "# Use slicing to pull out the subarray consisting of the first 2 rows\n",
    "# and columns 1 and 2; b is the following array of shape (2, 2):\n",
    "b = a[:2, 1:3]\n",
    "print(b)\n",
    "\n",
    "# A slice of an array is a view into the same data, so modifying it\n",
    "# will modify the original array.\n",
    "print(a[0, 1])\n",
    "b[0, 0] = 77 # b[0, 0] is the same piece of data as a[0, 1]\n",
    "print(a[0, 1]) # Prints \"77\""
   ]
  },
  {
   "cell_type": "markdown",
   "metadata": {},
   "source": [
    "### Numpy datatypes"
   ]
  },
  {
   "cell_type": "code",
   "execution_count": 58,
   "metadata": {},
   "outputs": [
    {
     "name": "stdout",
     "output_type": "stream",
     "text": [
      "int64\n",
      "float64\n",
      "int64\n"
     ]
    }
   ],
   "source": [
    "import numpy as np\n",
    "\n",
    "x = np.array([1, 2]) # Let numpy choose the datatype\n",
    "print(x.dtype) \n",
    "\n",
    "x = np.array([1.0, 2.0]) # Let numpy choose the datatype\n",
    "print(x.dtype) \n",
    "\n",
    "x = np.array([1, 2], dtype=np.int64) # Force a particular datatype\n",
    "print(x.dtype)"
   ]
  },
  {
   "cell_type": "markdown",
   "metadata": {},
   "source": [
    "### Array math"
   ]
  },
  {
   "cell_type": "code",
   "execution_count": 59,
   "metadata": {},
   "outputs": [
    {
     "name": "stdout",
     "output_type": "stream",
     "text": [
      "[[ 6.  8.]\n",
      " [10. 12.]]\n",
      "[[ 6.  8.]\n",
      " [10. 12.]]\n",
      "[[-4. -4.]\n",
      " [-4. -4.]]\n",
      "[[-4. -4.]\n",
      " [-4. -4.]]\n",
      "[[ 5. 12.]\n",
      " [21. 32.]]\n",
      "[[ 5. 12.]\n",
      " [21. 32.]]\n",
      "[[0.2        0.33333333]\n",
      " [0.42857143 0.5       ]]\n",
      "[[0.2        0.33333333]\n",
      " [0.42857143 0.5       ]]\n",
      "[[1.         1.41421356]\n",
      " [1.73205081 2.        ]]\n"
     ]
    }
   ],
   "source": [
    "x = np.array([[1,2],[3,4]], dtype=np.float64) \n",
    "y = np.array([[5,6],[7,8]], dtype=np.float64)\n",
    "\n",
    "# Elementwise sum\n",
    "print(x + y)\n",
    "print(np.add(x, y))\n",
    "\n",
    "# Elementwise difference\n",
    "print(x - y)\n",
    "print(np.subtract(x, y))\n",
    "\n",
    "# Elementwise product\n",
    "print(x * y)\n",
    "print(np.multiply(x, y))\n",
    "\n",
    "# Elementwise division\n",
    "print(x / y)\n",
    "print(np.divide(x, y))\n",
    "\n",
    "# Elementwise square root\n",
    "print(np.sqrt(x))"
   ]
  },
  {
   "cell_type": "code",
   "execution_count": 60,
   "metadata": {},
   "outputs": [
    {
     "name": "stdout",
     "output_type": "stream",
     "text": [
      "219\n",
      "219\n",
      "219\n",
      "[29 67]\n",
      "[29 67]\n",
      "[29 67]\n",
      "[[19 22]\n",
      " [43 50]]\n",
      "[[19 22]\n",
      " [43 50]]\n",
      "[[19 22]\n",
      " [43 50]]\n"
     ]
    }
   ],
   "source": [
    "x = np.array([[1,2],[3,4]])\n",
    "y = np.array([[5,6],[7,8]])\n",
    "\n",
    "v = np.array([9,10])\n",
    "w = np.array([11,12])\n",
    "\n",
    "# Inner product of vectors\n",
    "print(v.dot(w))\n",
    "print(np.dot(v, w))\n",
    "print(v@w)\n",
    "\n",
    "# Matrix / vector product\n",
    "print(x.dot(v))\n",
    "print(np.dot(x, v))\n",
    "print(x@v)\n",
    "\n",
    "# Matrix / matrix product\n",
    "print(x.dot(y))\n",
    "print(np.dot(x, y))\n",
    "print(x@y)"
   ]
  },
  {
   "cell_type": "code",
   "execution_count": 61,
   "metadata": {},
   "outputs": [
    {
     "name": "stdout",
     "output_type": "stream",
     "text": [
      "10\n",
      "[4 6]\n",
      "[3 7]\n"
     ]
    }
   ],
   "source": [
    "x = np.array([[1,2],[3,4]])\n",
    "\n",
    "print(np.sum(x)) # Compute sum of all elements\n",
    "print(np.sum(x, axis=0)) # Compute sum of each column\n",
    "print(np.sum(x, axis=1)) # Compute sum of each row"
   ]
  },
  {
   "cell_type": "markdown",
   "metadata": {},
   "source": [
    "### Matplotlib"
   ]
  },
  {
   "cell_type": "code",
   "execution_count": 62,
   "metadata": {},
   "outputs": [
    {
     "data": {
      "image/png": "[encoded data removed]",
      "text/plain": [
       "<Figure size 432x288 with 1 Axes>"
      ]
     },
     "metadata": {
      "needs_background": "light"
     },
     "output_type": "display_data"
    }
   ],
   "source": [
    "# install matplotlib via pip first\n",
    "import matplotlib.pyplot as plt\n",
    "import numpy as np\n",
    "\n",
    "# x values to be plotted, see documentation\n",
    "x = np.linspace(0, 2, 100)\n",
    "\n",
    "# get the corresponding y values for each x value\n",
    "y1 = x # y = x plot\n",
    "y2 = x**2 # y = x^2 plot\n",
    "y3 = x**3 # y = x^3 plot\n",
    "\n",
    "plt.plot(x, y1, label='linear')\n",
    "plt.plot(x, y2, label='quadratic')\n",
    "plt.plot(x, y3, label='cubic')\n",
    "\n",
    "plt.xlabel('x label')\n",
    "plt.ylabel('y label')\n",
    "\n",
    "plt.title(\"Simple Plot\")\n",
    "\n",
    "plt.legend()\n",
    "\n",
    "plt.show()"
   ]
  },
  {
   "cell_type": "markdown",
   "metadata": {},
   "source": [
    "### Multiple subplots"
   ]
  },
  {
   "cell_type": "code",
   "execution_count": 63,
   "metadata": {},
   "outputs": [
    {
     "data": {
      "image/png": "[encoded data removed]",
      "text/plain": [
       "<Figure size 432x288 with 2 Axes>"
      ]
     },
     "metadata": {
      "needs_background": "light"
     },
     "output_type": "display_data"
    }
   ],
   "source": [
    "x1 = np.linspace(0.0, 5.0)\n",
    "x2 = np.linspace(0.0, 2.0)\n",
    "\n",
    "y1 = np.cos(2 * np.pi * x1) * np.exp(-x1)\n",
    "y2 = np.cos(2 * np.pi * x2)\n",
    "\n",
    "# plot y1 against x1\n",
    "plt.subplot(2, 1, 1)\n",
    "plt.plot(x1, y1, 'o-')\n",
    "plt.title('A tale of 2 subplots')\n",
    "plt.ylabel('Damped oscillation')\n",
    "\n",
    "# plot y2 against x2\n",
    "plt.subplot(2, 1, 2)\n",
    "plt.plot(x2, y2, '.-')\n",
    "plt.xlabel('time (s)')\n",
    "plt.ylabel('Undamped')\n",
    "\n",
    "plt.show()"
   ]
  },
  {
   "cell_type": "markdown",
   "metadata": {},
   "source": [
    "### 3D surface (color map)"
   ]
  },
  {
   "cell_type": "code",
   "execution_count": 64,
   "metadata": {},
   "outputs": [
    {
     "data": {
      "image/png": "[encoded data removed]",
      "text/plain": [
       "<Figure size 432x288 with 2 Axes>"
      ]
     },
     "metadata": {
      "needs_background": "light"
     },
     "output_type": "display_data"
    }
   ],
   "source": [
    "from matplotlib import cm\n",
    "from matplotlib.ticker import LinearLocator, FormatStrFormatter\n",
    "\n",
    "fig = plt.figure()\n",
    "ax = fig.gca(projection='3d')\n",
    "\n",
    "# Make data.\n",
    "# The idea here is to create a grid (np.meshgrid) of values X and Y,\n",
    "# then for each point in the grid calculate the function value.\n",
    "# The resulting array Z has the same dimentions as X and Y.\n",
    "X = np.arange(-5, 5, 0.25) # x axis values\n",
    "Y = np.arange(-5, 5, 0.25) # y axis values\n",
    "X, Y = np.meshgrid(X, Y) # make a grid out of the x and y values\n",
    "R = np.sqrt(X**2 + Y**2) \n",
    "Z = np.sin(R) # z = sin(x^2 + y^2) z axis values\n",
    "\n",
    "# Plot the surface.\n",
    "surf = ax.plot_surface(X, Y, Z, cmap=cm.coolwarm,\n",
    "                       linewidth=0, antialiased=False)\n",
    "# Customize the z axis.\n",
    "ax.set_zlim(-1.01, 1.01)\n",
    "ax.zaxis.set_major_locator(LinearLocator(10))\n",
    "ax.zaxis.set_major_formatter(FormatStrFormatter('%.02f'))\n",
    "\n",
    "# Add a color bar which maps values to colors.\n",
    "fig.colorbar(surf, shrink=0.5, aspect=5)\n",
    "plt.show()"
   ]
  },
  {
   "cell_type": "markdown",
   "metadata": {},
   "source": [
    "## Scipy"
   ]
  },
  {
   "cell_type": "code",
   "execution_count": 65,
   "metadata": {},
   "outputs": [
    {
     "data": {
      "text/plain": [
       "[<matplotlib.lines.Line2D at 0x7f84fef5a400>,\n",
       " <matplotlib.lines.Line2D at 0x7f84fef5a430>]"
      ]
     },
     "execution_count": 65,
     "metadata": {},
     "output_type": "execute_result"
    },
    {
     "data": {
      "image/png": "[encoded data removed]",
      "text/plain": [
       "<Figure size 432x288 with 1 Axes>"
      ]
     },
     "metadata": {
      "needs_background": "light"
     },
     "output_type": "display_data"
    }
   ],
   "source": [
    "# install scipy using pip first\n",
    "# Example - find and plot the maximum of a Bessel function\n",
    "from scipy import special, optimize\n",
    "\n",
    "# returns the Bessel function value to the coresponding x\n",
    "f = lambda x: -special.jv(3, x)\n",
    "# note that the function finds the minimum, therefore we negate the Bessel function (see above \n",
    "sol = optimize.minimize(f, 1.0)\n",
    "\n",
    "# Plot\n",
    "x = np.linspace(0, 10, 5000)\n",
    "# Here, we plot the positive Bessel function\n",
    "plt.plot(x, special.jv(3, x), '-', sol.x, -sol.fun, 'o')"
   ]
  },
  {
   "cell_type": "markdown",
   "metadata": {},
   "source": [
    "## Exercise - Number Guessing Game"
   ]
  },
  {
   "cell_type": "code",
   "execution_count": 92,
   "metadata": {},
   "outputs": [
    {
     "name": "stdout",
     "output_type": "stream",
     "text": [
      "target= 0.3205588870648721\n",
      "guess 0 = 0.5 is bigger than target\n",
      "guess 1 = 0.25 is smaller than target\n",
      "guess 2 = 0.375 is bigger than target\n",
      "guess 3 = 0.3125 is smaller than target\n",
      "guess 4 = 0.34375 is bigger than target\n",
      "guess 5 = 0.328125 is bigger than target\n",
      "guess 6 = 0.3203125 is smaller than target\n",
      "guess 7 = 0.32421875 is bigger than target\n",
      "guess 8 = 0.322265625 is bigger than target\n",
      "guess 9 = 0.3212890625 is bigger than target\n",
      "guess 10 = 0.32080078125 is bigger than target\n",
      "guess 11 = 0.320556640625 is smaller than target\n",
      "guess 12 = 0.3206787109375 is bigger than target\n",
      "guess 13 = 0.32061767578125 is bigger than target\n",
      "guess 14 = 0.320587158203125 is bigger than target\n",
      "guess 15 = 0.3205718994140625 is bigger than target\n",
      "guess 16 = 0.32056427001953125 is bigger than target\n",
      "guess 17 = 0.3205604553222656 is bigger than target\n",
      "Total guessing times are 18\n"
     ]
    }
   ],
   "source": [
    "import random\n",
    "\n",
    "target = random.random()\n",
    "print(\"target= {}\".format(target))\n",
    "max = 1 # initial maximum\n",
    "min = 0 # initial minimum\n",
    "guess = (max + min)/2 # First guess\n",
    "count = 0 # guessing times\n",
    "bias = abs(target - guess) # guessing bias\n",
    "tolerance = 1.0e-06 # The number depending on a solver's stopping criteria.\n",
    "\n",
    "while bias > tolerance:\n",
    "    if guess < target:\n",
    "        print(\"guess {} = {} is smaller than target\".format(count,guess))\n",
    "        min = guess # If the guess number is small, assign the result of this guess to min as the next minimum\n",
    "        guess = (guess + max)/2\n",
    "        count += 1\n",
    "        bias = abs(target - guess) # guessing bias\n",
    "    else:\n",
    "        print(\"guess {} = {} is bigger than target\".format(count,guess))\n",
    "        max = guess# If the guess number is large, assign the result of this guess to max as the next maximum\n",
    "        guess = (min + guess)/2\n",
    "        count += 1\n",
    "        bias = abs(target - guess) # guessing bias\n",
    "\n",
    "print(\"Total guessing times are {}\".format(count))"
   ]
  }
 ],
 "metadata": {
  "kernelspec": {
   "display_name": "Python 3",
   "language": "python",
   "name": "python3"
  },
  "language_info": {
   "codemirror_mode": {
    "name": "ipython",
    "version": 3
   },
   "file_extension": ".py",
   "mimetype": "text/x-python",
   "name": "python",
   "nbconvert_exporter": "python",
   "pygments_lexer": "ipython3",
   "version": "3.8.5"
  }
 },
 "nbformat": 4,
 "nbformat_minor": 4
}
